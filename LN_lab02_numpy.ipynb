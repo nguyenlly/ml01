{
  "nbformat": 4,
  "nbformat_minor": 0,
  "metadata": {
    "colab": {
      "provenance": []
    },
    "kernelspec": {
      "name": "python3",
      "display_name": "Python 3"
    }
  },
  "cells": [
    {
      "cell_type": "markdown",
      "metadata": {
        "id": "jcURIk_sSCcS"
      },
      "source": [
        "\n",
        "# Lab 2 – NumPy\n",
        "---\n",
        "\n",
        "NumPy is a library in Python for processing multi-dimensional arrays, along with a large collection of high-level mathematical functions to operate on these arrays.\n",
        "\n"
      ]
    },
    {
      "cell_type": "code",
      "metadata": {
        "id": "J9vVTEUuSlBI",
        "colab": {
          "base_uri": "https://localhost:8080/"
        },
        "outputId": "05812dd2-328c-44d1-fa8b-4c18adbba5cd"
      },
      "source": [
        "import numpy as np\n",
        "\n",
        "print(\"Numpy:\", np.__version__)"
      ],
      "execution_count": null,
      "outputs": [
        {
          "output_type": "stream",
          "name": "stdout",
          "text": [
            "Numpy: 1.21.5\n"
          ]
        }
      ]
    },
    {
      "cell_type": "markdown",
      "metadata": {
        "id": "ecFnw2LJWsz8"
      },
      "source": [
        "### Array creation\n",
        "\n",
        "Create a simple scalar as an np array"
      ]
    },
    {
      "cell_type": "code",
      "metadata": {
        "id": "3vnxUr2ub04C",
        "colab": {
          "base_uri": "https://localhost:8080/"
        },
        "outputId": "7323b38b-c1cd-413b-d77d-db3f34ea3b82"
      },
      "source": [
        "a = np.array(5)\n",
        "print(a)\n",
        "print(a.ndim)"
      ],
      "execution_count": null,
      "outputs": [
        {
          "output_type": "stream",
          "name": "stdout",
          "text": [
            "5\n",
            "0\n"
          ]
        }
      ]
    },
    {
      "cell_type": "markdown",
      "metadata": {
        "id": "ew_pXsrDb9bg"
      },
      "source": [
        "Create a simple 1-D array\n"
      ]
    },
    {
      "cell_type": "code",
      "metadata": {
        "id": "8E0ENWYO4nWR",
        "colab": {
          "base_uri": "https://localhost:8080/"
        },
        "outputId": "eb897605-fb9e-47ac-aa60-35a65f71fd18"
      },
      "source": [
        "a = np.array([0,1,2])\n",
        "print(a)\n",
        "print(a.ndim)\n",
        "print(a.size)"
      ],
      "execution_count": null,
      "outputs": [
        {
          "output_type": "stream",
          "name": "stdout",
          "text": [
            "[0 1 2]\n",
            "1\n",
            "3\n"
          ]
        }
      ]
    },
    {
      "cell_type": "markdown",
      "metadata": {
        "id": "YVACLQIOXiec"
      },
      "source": [
        "Create a 1-D array with zeros in it\n",
        "\n",
        "Check array properties"
      ]
    },
    {
      "cell_type": "code",
      "metadata": {
        "id": "DiG7e7rCXlYt",
        "colab": {
          "base_uri": "https://localhost:8080/"
        },
        "outputId": "1a1955ec-a98b-4c9f-a270-23786cee06c6"
      },
      "source": [
        "a = np.zeros(3)\n",
        "print(a)\n",
        "\n",
        "# print array type\n",
        "print(type(a))\n",
        "# print array's first element\n",
        "print(a[0])\n",
        "# print type of array's first element\n",
        "print(type(a[0]))\n",
        "# print number of dimensions of array\n",
        "print(a.ndim)\n",
        "# print size of array\n",
        "print(a.size)\n",
        "# print array data type\n",
        "print(a.dtype)"
      ],
      "execution_count": null,
      "outputs": [
        {
          "output_type": "stream",
          "name": "stdout",
          "text": [
            "[0. 0. 0.]\n",
            "<class 'numpy.ndarray'>\n",
            "0.0\n",
            "<class 'numpy.float64'>\n",
            "1\n",
            "3\n",
            "float64\n"
          ]
        }
      ]
    },
    {
      "cell_type": "markdown",
      "metadata": {
        "id": "asq-tBXz5IPO"
      },
      "source": [
        "Specifying array data type"
      ]
    },
    {
      "cell_type": "code",
      "metadata": {
        "id": "PSXfp4j45Ik2",
        "colab": {
          "base_uri": "https://localhost:8080/"
        },
        "outputId": "483fa9c6-81da-4c42-b16b-2884043faf15"
      },
      "source": [
        "a = np.array([1,2,3], dtype='int32')\n",
        "print(a)\n",
        "print(a.dtype)"
      ],
      "execution_count": null,
      "outputs": [
        {
          "output_type": "stream",
          "name": "stdout",
          "text": [
            "[1 2 3]\n",
            "int32\n"
          ]
        }
      ]
    },
    {
      "cell_type": "markdown",
      "metadata": {
        "id": "SsQZjix_VgPZ"
      },
      "source": [
        "Create an array with 1's in it"
      ]
    },
    {
      "cell_type": "code",
      "metadata": {
        "id": "PaTrpDwUVrbN",
        "colab": {
          "base_uri": "https://localhost:8080/"
        },
        "outputId": "adde1fc9-a8a5-4c8b-f64d-f3d2e932f662"
      },
      "source": [
        "z = np.ones(10)\n",
        "z"
      ],
      "execution_count": null,
      "outputs": [
        {
          "output_type": "execute_result",
          "data": {
            "text/plain": [
              "array([1., 1., 1., 1., 1., 1., 1., 1., 1., 1.])"
            ]
          },
          "metadata": {},
          "execution_count": 17
        }
      ]
    },
    {
      "cell_type": "markdown",
      "metadata": {
        "id": "AcNFM_otaWgY"
      },
      "source": [
        "Specying 2-D array data type\n"
      ]
    },
    {
      "cell_type": "code",
      "metadata": {
        "id": "kWdgoZpiaTBX",
        "colab": {
          "base_uri": "https://localhost:8080/"
        },
        "outputId": "6405df87-630e-4ab5-8857-f83a91410561"
      },
      "source": [
        "z = np.ones((2,4), dtype=int) # Default dtype is numpy.float64\n",
        "print(z)\n",
        "print(z.dtype)"
      ],
      "execution_count": null,
      "outputs": [
        {
          "output_type": "stream",
          "name": "stdout",
          "text": [
            "[[1 1 1 1]\n",
            " [1 1 1 1]]\n",
            "int64\n"
          ]
        }
      ]
    },
    {
      "cell_type": "markdown",
      "metadata": {
        "id": "-m-cnwei6tZ8"
      },
      "source": [
        "Fill array with a number"
      ]
    },
    {
      "cell_type": "code",
      "metadata": {
        "id": "mDhrnjw06rii",
        "colab": {
          "base_uri": "https://localhost:8080/"
        },
        "outputId": "d42fb203-5c09-4853-a95e-2392715f7ccb"
      },
      "source": [
        "np.full((3,4), 13)"
      ],
      "execution_count": null,
      "outputs": [
        {
          "output_type": "execute_result",
          "data": {
            "text/plain": [
              "array([[13, 13, 13, 13],\n",
              "       [13, 13, 13, 13],\n",
              "       [13, 13, 13, 13]])"
            ]
          },
          "metadata": {},
          "execution_count": 19
        }
      ]
    },
    {
      "cell_type": "markdown",
      "metadata": {
        "id": "gXItqN5Q1BpB"
      },
      "source": [
        "### Identity matrix"
      ]
    },
    {
      "cell_type": "code",
      "metadata": {
        "id": "v_JA88wV1D4e",
        "colab": {
          "base_uri": "https://localhost:8080/"
        },
        "outputId": "d17a9e09-a6fc-4d73-bf09-2c203f0529b2"
      },
      "source": [
        "np.identity(3)"
      ],
      "execution_count": null,
      "outputs": [
        {
          "output_type": "execute_result",
          "data": {
            "text/plain": [
              "array([[1., 0., 0.],\n",
              "       [0., 1., 0.],\n",
              "       [0., 0., 1.]])"
            ]
          },
          "metadata": {},
          "execution_count": 20
        }
      ]
    },
    {
      "cell_type": "code",
      "metadata": {
        "id": "QSWC6a0InKSQ",
        "colab": {
          "base_uri": "https://localhost:8080/"
        },
        "outputId": "8157dc67-9d04-456d-a479-7b98dfc7baf9"
      },
      "source": [
        "np.eye(4)"
      ],
      "execution_count": null,
      "outputs": [
        {
          "output_type": "execute_result",
          "data": {
            "text/plain": [
              "array([[1., 0., 0., 0.],\n",
              "       [0., 1., 0., 0.],\n",
              "       [0., 0., 1., 0.],\n",
              "       [0., 0., 0., 1.]])"
            ]
          },
          "metadata": {},
          "execution_count": 24
        }
      ]
    },
    {
      "cell_type": "markdown",
      "metadata": {
        "id": "j_AZQmf6Vb8F"
      },
      "source": [
        "## Array Shape\n",
        "\n",
        "The shape of an array is the number of elements in each dimension."
      ]
    },
    {
      "cell_type": "code",
      "metadata": {
        "id": "rq_kLhOr_QqD",
        "colab": {
          "base_uri": "https://localhost:8080/"
        },
        "outputId": "312d9a89-0ded-4eae-8755-6029d349a74b"
      },
      "source": [
        "a = np.array([0,1,2,4,5,6,7,8])\n",
        "print(a)\n",
        "print(a.shape)"
      ],
      "execution_count": null,
      "outputs": [
        {
          "output_type": "stream",
          "name": "stdout",
          "text": [
            "[0 1 2 4 5 6 7 8]\n",
            "(8,)\n"
          ]
        }
      ]
    },
    {
      "cell_type": "markdown",
      "metadata": {
        "id": "K7xdTpnEcZT8"
      },
      "source": [
        "Array rank is the number of dimensions"
      ]
    },
    {
      "cell_type": "code",
      "metadata": {
        "id": "33nt1d-0cf18",
        "colab": {
          "base_uri": "https://localhost:8080/"
        },
        "outputId": "d4669535-f678-442c-bb11-4fc9e11ac644"
      },
      "source": [
        "print(a.ndim)"
      ],
      "execution_count": null,
      "outputs": [
        {
          "output_type": "stream",
          "name": "stdout",
          "text": [
            "1\n"
          ]
        }
      ]
    },
    {
      "cell_type": "markdown",
      "metadata": {
        "id": "7HULnFqdcAgh"
      },
      "source": [
        "### Reshape\n",
        "By reshaping we can add or remove dimensions or change number of elements in each dimension."
      ]
    },
    {
      "cell_type": "code",
      "metadata": {
        "id": "0D3JwF-ZcGqb",
        "colab": {
          "base_uri": "https://localhost:8080/"
        },
        "outputId": "df687f7f-a7d5-4d68-8539-aa4d681dd5a7"
      },
      "source": [
        "a.shape = (8,1)\n",
        "print(a)"
      ],
      "execution_count": null,
      "outputs": [
        {
          "output_type": "stream",
          "name": "stdout",
          "text": [
            "[[0]\n",
            " [1]\n",
            " [2]\n",
            " [4]\n",
            " [5]\n",
            " [6]\n",
            " [7]\n",
            " [8]]\n"
          ]
        }
      ]
    },
    {
      "cell_type": "markdown",
      "metadata": {
        "id": "uDXJFqVfwYWT"
      },
      "source": [
        "Reshape from 1-D to 2-D"
      ]
    },
    {
      "cell_type": "code",
      "metadata": {
        "id": "VLXuw6eowcYt",
        "colab": {
          "base_uri": "https://localhost:8080/"
        },
        "outputId": "8926b43b-5ac5-49e0-9481-f5a1eacbd36e"
      },
      "source": [
        "b = np.array([1, 2, 3, 4, 5, 6, 7, 8, 9, 10, 11, 12])\n",
        "print(b.ndim)\n",
        "print(b.shape)\n",
        "c = b.reshape(2,6)\n",
        "print(c)\n",
        "print(c.ndim)\n",
        "print(c.shape)"
      ],
      "execution_count": null,
      "outputs": [
        {
          "output_type": "stream",
          "name": "stdout",
          "text": [
            "1\n",
            "(12,)\n",
            "[[ 1  2  3  4  5  6]\n",
            " [ 7  8  9 10 11 12]]\n",
            "2\n",
            "(2, 6)\n"
          ]
        }
      ]
    },
    {
      "cell_type": "markdown",
      "metadata": {
        "id": "w2ELbWecw4Oh"
      },
      "source": [
        "Reshape to 3-D\n",
        "- Arrays can be reshaped to any dimensions as long as the number of elements match\n"
      ]
    },
    {
      "cell_type": "code",
      "metadata": {
        "id": "tLdV3i8nw2kH",
        "colab": {
          "base_uri": "https://localhost:8080/"
        },
        "outputId": "35fd983b-a21a-4ab6-a990-2fec297936cf"
      },
      "source": [
        "d = c.reshape(2,3,2)\n",
        "print(d)\n",
        "d.shape"
      ],
      "execution_count": null,
      "outputs": [
        {
          "output_type": "stream",
          "name": "stdout",
          "text": [
            "[[[ 1  2]\n",
            "  [ 3  4]\n",
            "  [ 5  6]]\n",
            "\n",
            " [[ 7  8]\n",
            "  [ 9 10]\n",
            "  [11 12]]]\n"
          ]
        },
        {
          "output_type": "execute_result",
          "data": {
            "text/plain": [
              "(2, 3, 2)"
            ]
          },
          "metadata": {},
          "execution_count": 42
        }
      ]
    },
    {
      "cell_type": "markdown",
      "metadata": {
        "id": "bs9n1emSxb-v"
      },
      "source": [
        "Unknown dimension\n",
        "\n",
        "- You are allowed to have ONE \"unknown\" dimension *only*.\n",
        "- Specify -1 for this, NumPy will calculate this number automatically."
      ]
    },
    {
      "cell_type": "code",
      "metadata": {
        "id": "je1kWJ9txxud",
        "colab": {
          "base_uri": "https://localhost:8080/"
        },
        "outputId": "fb73fe47-cdef-4962-a4c5-106c374a63f9"
      },
      "source": [
        "e = c.reshape(1,2,-1)\n",
        "print(e)\n",
        "print(e.shape)"
      ],
      "execution_count": null,
      "outputs": [
        {
          "output_type": "stream",
          "name": "stdout",
          "text": [
            "[[[ 1  2  3  4  5  6]\n",
            "  [ 7  8  9 10 11 12]]]\n",
            "(1, 2, 6)\n"
          ]
        }
      ]
    },
    {
      "cell_type": "markdown",
      "metadata": {
        "id": "XwZ-poKdHlHH"
      },
      "source": [
        "Reshape back to 1-D"
      ]
    },
    {
      "cell_type": "code",
      "metadata": {
        "id": "pbxdmNB-Gz0c",
        "colab": {
          "base_uri": "https://localhost:8080/"
        },
        "outputId": "1565aeef-2f45-46b8-c118-1fd5731d493d"
      },
      "source": [
        "e = e.reshape(12)\n",
        "print(e)\n",
        "print(e.shape)"
      ],
      "execution_count": null,
      "outputs": [
        {
          "output_type": "stream",
          "name": "stdout",
          "text": [
            "[ 1  2  3  4  5  6  7  8  9 10 11 12]\n",
            "(12,)\n"
          ]
        }
      ]
    },
    {
      "cell_type": "markdown",
      "metadata": {
        "id": "PsawhjpcfJTw"
      },
      "source": [
        "## Evenly spaced numbers over a specified number of elements or interval\n",
        "- ``linspace()``\n",
        "- ``arange()``\n"
      ]
    },
    {
      "cell_type": "code",
      "metadata": {
        "id": "u_DoTZXLakCN",
        "colab": {
          "base_uri": "https://localhost:8080/"
        },
        "outputId": "0f9814ae-38f7-4065-a90f-6b67bbec5a67"
      },
      "source": [
        "z = np.linspace(2, 10, 5) # from 2 to 10 with 5 elements\n",
        "z"
      ],
      "execution_count": null,
      "outputs": [
        {
          "output_type": "execute_result",
          "data": {
            "text/plain": [
              "array([ 2.,  4.,  6.,  8., 10.])"
            ]
          },
          "metadata": {},
          "execution_count": 50
        }
      ]
    },
    {
      "cell_type": "code",
      "metadata": {
        "colab": {
          "base_uri": "https://localhost:8080/"
        },
        "id": "gMVbPVCGfSjc",
        "outputId": "4d49f51b-d247-4e37-ee39-3815c9751764"
      },
      "source": [
        "z = np.arange(0, 10, step=5) # from 0 to 9 with step size 5\n",
        "z"
      ],
      "execution_count": null,
      "outputs": [
        {
          "output_type": "execute_result",
          "data": {
            "text/plain": [
              "array([0, 5])"
            ]
          },
          "metadata": {},
          "execution_count": 51
        }
      ]
    },
    {
      "cell_type": "code",
      "metadata": {
        "id": "VeXvv-V5nfaS",
        "colab": {
          "base_uri": "https://localhost:8080/"
        },
        "outputId": "437bd2b4-3bf3-4d9a-fe82-f1117b00d493"
      },
      "source": [
        "z = np.arange(10)\n",
        "z"
      ],
      "execution_count": null,
      "outputs": [
        {
          "output_type": "execute_result",
          "data": {
            "text/plain": [
              "array([0, 1, 2, 3, 4, 5, 6, 7, 8, 9])"
            ]
          },
          "metadata": {},
          "execution_count": 52
        }
      ]
    },
    {
      "cell_type": "markdown",
      "metadata": {
        "id": "G5eaJ4L0fL-z"
      },
      "source": [
        "\n",
        "# NumPy Arrays vs Lists\n",
        "\n",
        "*   Faster to read because it uses less bytes of memory via fixed type (e.g. Int32)\n",
        "*   No type checking when iterating through objects\n",
        "*   Utilises contiguous memory\n",
        "*   Element wise operations possible\n"
      ]
    },
    {
      "cell_type": "code",
      "metadata": {
        "id": "1rWmKx3pfOMk",
        "colab": {
          "base_uri": "https://localhost:8080/"
        },
        "outputId": "03ac503e-d1e7-445a-a2b9-06e0ac7796f8"
      },
      "source": [
        "# Create array from list\n",
        "a = np.array([1,3,7])\n",
        "print(a)\n",
        "type(a)"
      ],
      "execution_count": null,
      "outputs": [
        {
          "output_type": "stream",
          "name": "stdout",
          "text": [
            "[1 3 7]\n"
          ]
        },
        {
          "output_type": "execute_result",
          "data": {
            "text/plain": [
              "numpy.ndarray"
            ]
          },
          "metadata": {},
          "execution_count": 53
        }
      ]
    },
    {
      "cell_type": "markdown",
      "metadata": {
        "id": "nu0N35W5qboD"
      },
      "source": [
        "Convert array to list"
      ]
    },
    {
      "cell_type": "code",
      "metadata": {
        "id": "Lscgyp-sqdlL",
        "colab": {
          "base_uri": "https://localhost:8080/"
        },
        "outputId": "a57584bf-eb60-4364-a290-266ad0b3ae49"
      },
      "source": [
        "alist = np.ones(5).tolist()\n",
        "print(alist)\n",
        "type(alist)"
      ],
      "execution_count": null,
      "outputs": [
        {
          "output_type": "stream",
          "name": "stdout",
          "text": [
            "[1.0, 1.0, 1.0, 1.0, 1.0]\n"
          ]
        },
        {
          "output_type": "execute_result",
          "data": {
            "text/plain": [
              "list"
            ]
          },
          "metadata": {},
          "execution_count": 54
        }
      ]
    },
    {
      "cell_type": "markdown",
      "metadata": {
        "id": "lr-Kr8LwfmvH"
      },
      "source": [
        "## 2-D arrays"
      ]
    },
    {
      "cell_type": "code",
      "metadata": {
        "id": "fcz1zXhefo71",
        "colab": {
          "base_uri": "https://localhost:8080/"
        },
        "outputId": "6b902a66-9498-46a8-96a5-780367813238"
      },
      "source": [
        "alist = [[1,2,3,4], [8,7,6,5]]\n",
        "z = np.array(alist)\n",
        "print(z)\n",
        "print(z.shape)"
      ],
      "execution_count": null,
      "outputs": [
        {
          "output_type": "stream",
          "name": "stdout",
          "text": [
            "[[1 2 3 4]\n",
            " [8 7 6 5]]\n",
            "(2, 4)\n"
          ]
        }
      ]
    },
    {
      "cell_type": "code",
      "metadata": {
        "id": "8ngPOoekgTYs",
        "colab": {
          "base_uri": "https://localhost:8080/"
        },
        "outputId": "564feeb9-b05a-433d-b67c-4ff2618f808e"
      },
      "source": [
        "blist = [[1,2,3,4], [8,7,6,5]]\n",
        "z = np.array([blist])\n",
        "print(z)\n",
        "print(z.shape)"
      ],
      "execution_count": null,
      "outputs": [
        {
          "output_type": "stream",
          "name": "stdout",
          "text": [
            "[[[1 2 3 4]\n",
            "  [8 7 6 5]]]\n",
            "(1, 2, 4)\n"
          ]
        }
      ]
    },
    {
      "cell_type": "markdown",
      "metadata": {
        "id": "Em5Nw9arhCwF"
      },
      "source": [
        "## Random Array\n",
        "\n",
        "Create a random integer array specifying range and size"
      ]
    },
    {
      "cell_type": "code",
      "metadata": {
        "id": "zQdGQDg-Fzsw",
        "colab": {
          "base_uri": "https://localhost:8080/"
        },
        "outputId": "5b74a09b-e881-4c47-ab17-38d6530dba98"
      },
      "source": [
        "# random integers start, end exclusive, shape\n",
        "np.random.randint(4,9,size=(3,4))"
      ],
      "execution_count": null,
      "outputs": [
        {
          "output_type": "execute_result",
          "data": {
            "text/plain": [
              "array([[4, 7, 4, 4],\n",
              "       [5, 8, 6, 6],\n",
              "       [8, 6, 6, 7]])"
            ]
          },
          "metadata": {},
          "execution_count": 57
        }
      ]
    },
    {
      "cell_type": "markdown",
      "metadata": {
        "id": "qaHcD1N8E_mW"
      },
      "source": [
        "Create an array with 10 random numbers between 0 and 1"
      ]
    },
    {
      "cell_type": "code",
      "metadata": {
        "id": "M_4UhUmPujho",
        "colab": {
          "base_uri": "https://localhost:8080/"
        },
        "outputId": "da3b190f-92fd-474c-b5c5-696238283c38"
      },
      "source": [
        "np.random.random(10)"
      ],
      "execution_count": null,
      "outputs": [
        {
          "output_type": "execute_result",
          "data": {
            "text/plain": [
              "array([0.69592094, 0.01843122, 0.78644809, 0.14605127, 0.63751614,\n",
              "       0.99001245, 0.98397007, 0.43221218, 0.64183531, 0.75217923])"
            ]
          },
          "metadata": {},
          "execution_count": 61
        }
      ]
    },
    {
      "cell_type": "markdown",
      "metadata": {
        "id": "daIq4T4JuzpO"
      },
      "source": [
        "Use seed() for reproducibility"
      ]
    },
    {
      "cell_type": "code",
      "metadata": {
        "id": "Zxy_M4OZhEWU",
        "colab": {
          "base_uri": "https://localhost:8080/"
        },
        "outputId": "5ee26d54-1977-4635-9e55-e4ad8df59498"
      },
      "source": [
        "# Seed allows the random values generated will be the same every time the code is run\n",
        "np.random.seed(0) # change 0 to any other integer value (e.g. 10) and see the effects\n",
        "z1 = np.random.randint(10, size=6) # generate an array with 6 integers between 0 and 9\n",
        "z1"
      ],
      "execution_count": null,
      "outputs": [
        {
          "output_type": "execute_result",
          "data": {
            "text/plain": [
              "array([5, 0, 3, 3, 7, 9])"
            ]
          },
          "metadata": {},
          "execution_count": 62
        }
      ]
    },
    {
      "cell_type": "markdown",
      "metadata": {
        "id": "uRWWdwq8wjjo"
      },
      "source": [
        "## Basic operations"
      ]
    },
    {
      "cell_type": "code",
      "metadata": {
        "id": "HSd3L_JsFUzh",
        "colab": {
          "base_uri": "https://localhost:8080/"
        },
        "outputId": "d334a03d-6f9a-4727-e157-fd36e7ce3a87"
      },
      "source": [
        "z = np.array([1,2,3,8,9])\n",
        "print(z<3)\n",
        "z[z>3]"
      ],
      "execution_count": null,
      "outputs": [
        {
          "output_type": "stream",
          "name": "stdout",
          "text": [
            "[ True  True False False False]\n"
          ]
        },
        {
          "output_type": "execute_result",
          "data": {
            "text/plain": [
              "array([8, 9])"
            ]
          },
          "metadata": {},
          "execution_count": 63
        }
      ]
    },
    {
      "cell_type": "code",
      "metadata": {
        "id": "whvr3FlZGVpP",
        "colab": {
          "base_uri": "https://localhost:8080/"
        },
        "outputId": "7a0e6854-c96c-4391-e6f9-4238e5b8e94e"
      },
      "source": [
        "a = np.array([1,2,3,4,5])\n",
        "b = np.array([6,7,8,9,10])\n",
        "print(a+b)\n",
        "print(a-b)\n",
        "print(a*b)\n",
        "print(a/b)\n",
        "print(a * 10)\n"
      ],
      "execution_count": null,
      "outputs": [
        {
          "output_type": "stream",
          "name": "stdout",
          "text": [
            "[ 7  9 11 13 15]\n",
            "[-5 -5 -5 -5 -5]\n",
            "[ 6 14 24 36 50]\n",
            "[0.16666667 0.28571429 0.375      0.44444444 0.5       ]\n",
            "[10 20 30 40 50]\n"
          ]
        }
      ]
    },
    {
      "cell_type": "markdown",
      "metadata": {
        "id": "e2RzzZldGkVO"
      },
      "source": [
        "## Dot product"
      ]
    },
    {
      "cell_type": "code",
      "metadata": {
        "id": "Nu7p59sdGmiu",
        "colab": {
          "base_uri": "https://localhost:8080/"
        },
        "outputId": "551f6509-0230-429f-ee28-2ee6cbc6c643"
      },
      "source": [
        "a @ b"
      ],
      "execution_count": null,
      "outputs": [
        {
          "output_type": "execute_result",
          "data": {
            "text/plain": [
              "130"
            ]
          },
          "metadata": {},
          "execution_count": 65
        }
      ]
    },
    {
      "cell_type": "markdown",
      "metadata": {
        "id": "R3A5qQmVG01b"
      },
      "source": [
        "## Transpose\n",
        "\n",
        "Swap the rows and columns of an array"
      ]
    },
    {
      "cell_type": "code",
      "metadata": {
        "id": "1___Z3ykG2se",
        "colab": {
          "base_uri": "https://localhost:8080/"
        },
        "outputId": "28118fed-38ff-4167-c8be-03085611a36d"
      },
      "source": [
        "c = np.array([[1,2,3], [4,5,6]])\n",
        "c.T"
      ],
      "execution_count": null,
      "outputs": [
        {
          "output_type": "execute_result",
          "data": {
            "text/plain": [
              "array([[1, 4],\n",
              "       [2, 5],\n",
              "       [3, 6]])"
            ]
          },
          "metadata": {},
          "execution_count": 66
        }
      ]
    },
    {
      "cell_type": "markdown",
      "metadata": {
        "id": "zJXAJSAcpGic"
      },
      "source": [
        "## Indexing & Slicing\n",
        "\n",
        "- Remember indexes start at 0\n",
        "- Accessing specific elements"
      ]
    },
    {
      "cell_type": "code",
      "metadata": {
        "id": "8h0ErrfMD1F5",
        "colab": {
          "base_uri": "https://localhost:8080/"
        },
        "outputId": "3d1aeb5c-1a25-4c5c-cce8-c071878e7ea3"
      },
      "source": [
        "c = np.array([[1,2,3,4,5,6,7], [8,9,10,11,12,13,14]])\n",
        "\n",
        "# Index starts at 0\n",
        "print(c[0,0])\n",
        "print(c[1,2]) # row 1 (2nd row) , column 2 (3rd column)"
      ],
      "execution_count": null,
      "outputs": [
        {
          "output_type": "stream",
          "name": "stdout",
          "text": [
            "1\n",
            "10\n"
          ]
        }
      ]
    },
    {
      "cell_type": "markdown",
      "metadata": {
        "id": "8AoJeja0pIsI"
      },
      "source": [
        "## Slicing\n",
        "- ``a[start:stop]``  # items ``start`` through ``stop-1``\n",
        "- ``a[start:]``      # items ``start`` through the rest of the array\n",
        "- ``a[:stop]``       # items from the beginning through ``stop-1``\n",
        "- ``a[:]``           # a copy of the whole array\n"
      ]
    },
    {
      "cell_type": "code",
      "metadata": {
        "id": "7AQMsfUwpK__",
        "colab": {
          "base_uri": "https://localhost:8080/"
        },
        "outputId": "21f449b5-f12e-40f6-b5f1-c339a290ba5d"
      },
      "source": [
        "# Get specific row/column\n",
        "print(c[0, :]) # get row 0\n",
        "print(c[ : ,2]) # get column 2\n",
        "print(c[0,2:6])\n",
        "print(c[ :1,2])\n",
        "print(c.shape)"
      ],
      "execution_count": null,
      "outputs": [
        {
          "output_type": "stream",
          "name": "stdout",
          "text": [
            "[1 2 3 4 5 6 7]\n",
            "[ 3 10]\n",
            "[3 4 5 6]\n",
            "[3]\n",
            "(2, 7)\n"
          ]
        }
      ]
    },
    {
      "cell_type": "markdown",
      "metadata": {
        "id": "-oYuY6sLqX_1"
      },
      "source": [
        "### Indexing from the back\n",
        "- ``a[-1]``    # last item in the array\n",
        "- ``a[-2:]``   # last two items in the array\n",
        "- ``a[:-2]``   # everything except the last two items\n",
        "- Backward indexing starts from -1"
      ]
    },
    {
      "cell_type": "code",
      "metadata": {
        "id": "WRl5THxmoNgv",
        "colab": {
          "base_uri": "https://localhost:8080/"
        },
        "outputId": "fb614d7a-32ae-4822-f147-1b3ac222874a"
      },
      "source": [
        "b = np.array([[9.0, 8.0, 7.0, 6.0], [5.0, 4.0, 3.0, 2.0]])\n",
        "print(b[1,-2]) # starting indexing backwards (second element from the back)"
      ],
      "execution_count": null,
      "outputs": [
        {
          "output_type": "stream",
          "name": "stdout",
          "text": [
            "3.0\n"
          ]
        }
      ]
    },
    {
      "cell_type": "markdown",
      "metadata": {
        "id": "lEK7NC9rqLlp"
      },
      "source": [
        "### Including step\n",
        "- ``a[start:stop:step]`` # ``start`` through not past ``stop``, by ``step``"
      ]
    },
    {
      "cell_type": "code",
      "metadata": {
        "id": "jk9Aa_vRqNFM",
        "colab": {
          "base_uri": "https://localhost:8080/"
        },
        "outputId": "37506432-bcdb-461c-d6b3-ec545bce6ea9"
      },
      "source": [
        "print(c[0,1:6:2])\n",
        "print(c[1,1:-1:2])"
      ],
      "execution_count": null,
      "outputs": [
        {
          "output_type": "stream",
          "name": "stdout",
          "text": [
            "[2 4 6]\n",
            "[ 9 11 13]\n"
          ]
        }
      ]
    },
    {
      "cell_type": "markdown",
      "metadata": {
        "id": "cvoJ_RAErFn6"
      },
      "source": [
        "### Changing elements\n",
        "\n",
        "> Indented block\n",
        "\n"
      ]
    },
    {
      "cell_type": "code",
      "metadata": {
        "id": "AjPxXrqjrH08",
        "colab": {
          "base_uri": "https://localhost:8080/"
        },
        "outputId": "f70cfac0-1dbe-4608-8f7b-25dd4af2ff1e"
      },
      "source": [
        "c[1,5] = 20\n",
        "print(c)\n",
        "\n",
        "c[:, 2] = [17,19]\n",
        "print(c)"
      ],
      "execution_count": null,
      "outputs": [
        {
          "output_type": "stream",
          "name": "stdout",
          "text": [
            "[[ 1  2  3  4  5  6  7]\n",
            " [ 8  9 10 11 12 20 14]]\n",
            "[[ 1  2 17  4  5  6  7]\n",
            " [ 8  9 19 11 12 20 14]]\n"
          ]
        }
      ]
    },
    {
      "cell_type": "markdown",
      "metadata": {
        "id": "FiOC3cPWsdh7"
      },
      "source": [
        "### Indexing 3-D arrays"
      ]
    },
    {
      "cell_type": "code",
      "metadata": {
        "id": "ClCG-Da8shbV",
        "colab": {
          "base_uri": "https://localhost:8080/"
        },
        "outputId": "1387740f-d34e-42cc-837d-7cd51dbb0399"
      },
      "source": [
        "d = np.array([[[1,2],[3,4]], [[5,6],[7,8]]])\n",
        "print(d)\n",
        "print(d.shape)"
      ],
      "execution_count": null,
      "outputs": [
        {
          "output_type": "stream",
          "name": "stdout",
          "text": [
            "[[[1 2]\n",
            "  [3 4]]\n",
            "\n",
            " [[5 6]\n",
            "  [7 8]]]\n",
            "(2, 2, 2)\n"
          ]
        }
      ]
    },
    {
      "cell_type": "code",
      "metadata": {
        "id": "9DBbb_LrtZoD",
        "colab": {
          "base_uri": "https://localhost:8080/"
        },
        "outputId": "783ae2f9-103b-46eb-c2d4-cfd4515a7cce"
      },
      "source": [
        "# Get specific element\n",
        "print(d[0,1,1])\n",
        "\n",
        "# All x, some y , all z\n",
        "print(d[:,1,:])"
      ],
      "execution_count": null,
      "outputs": [
        {
          "output_type": "stream",
          "name": "stdout",
          "text": [
            "9\n",
            "[[9 9]\n",
            " [8 8]]\n"
          ]
        }
      ]
    },
    {
      "cell_type": "code",
      "metadata": {
        "id": "c34iZ31luY3B",
        "colab": {
          "base_uri": "https://localhost:8080/"
        },
        "outputId": "793a0b59-5ed1-47c4-919f-dda24df99a90"
      },
      "source": [
        "# Replace\n",
        "d[:,1,:] = [[9,9], [8,8]]\n",
        "d"
      ],
      "execution_count": null,
      "outputs": [
        {
          "output_type": "execute_result",
          "data": {
            "text/plain": [
              "array([[[1, 2],\n",
              "        [9, 9]],\n",
              "\n",
              "       [[5, 6],\n",
              "        [8, 8]]])"
            ]
          },
          "metadata": {},
          "execution_count": 78
        }
      ]
    },
    {
      "cell_type": "markdown",
      "metadata": {
        "id": "tiEWpX69GvFX"
      },
      "source": [
        "## Repeat array"
      ]
    },
    {
      "cell_type": "code",
      "metadata": {
        "id": "yOVFXLVLGwof",
        "colab": {
          "base_uri": "https://localhost:8080/"
        },
        "outputId": "929cd0c3-68cf-4c61-870a-9e2800b027ec"
      },
      "source": [
        "e = np.array([1,2,3])\n",
        "np.repeat(e, 2)"
      ],
      "execution_count": null,
      "outputs": [
        {
          "output_type": "execute_result",
          "data": {
            "text/plain": [
              "array([1, 1, 2, 2, 3, 3])"
            ]
          },
          "metadata": {},
          "execution_count": 80
        }
      ]
    },
    {
      "cell_type": "code",
      "metadata": {
        "id": "uiZn250aHBaa",
        "colab": {
          "base_uri": "https://localhost:8080/"
        },
        "outputId": "30d8aeed-257a-4607-bc45-347a9f8e6c84"
      },
      "source": [
        "# repeat on an axis\n",
        "e = np.array([[1,2,3]])\n",
        "np.repeat(e, 2, axis=0)"
      ],
      "execution_count": null,
      "outputs": [
        {
          "output_type": "execute_result",
          "data": {
            "text/plain": [
              "array([[1, 2, 3],\n",
              "       [1, 2, 3]])"
            ]
          },
          "metadata": {},
          "execution_count": 81
        }
      ]
    },
    {
      "cell_type": "code",
      "metadata": {
        "id": "TTtJSIqkbdF4",
        "colab": {
          "base_uri": "https://localhost:8080/"
        },
        "outputId": "f31dffe9-7325-48b9-818f-8d2b545f692c"
      },
      "source": [
        "f = np.ones((5,5), dtype='int32')\n",
        "f[1:-1, 1:-1] = 0\n",
        "f[2,2] = 9\n",
        "f"
      ],
      "execution_count": null,
      "outputs": [
        {
          "output_type": "execute_result",
          "data": {
            "text/plain": [
              "array([[1, 1, 1, 1, 1],\n",
              "       [1, 0, 0, 0, 1],\n",
              "       [1, 0, 9, 0, 1],\n",
              "       [1, 0, 0, 0, 1],\n",
              "       [1, 1, 1, 1, 1]], dtype=int32)"
            ]
          },
          "metadata": {},
          "execution_count": 82
        }
      ]
    },
    {
      "cell_type": "markdown",
      "metadata": {
        "id": "F2FhXKBzdBvv"
      },
      "source": [
        "## Making copies\n"
      ]
    },
    {
      "cell_type": "code",
      "metadata": {
        "id": "beXK4n6edUBV",
        "colab": {
          "base_uri": "https://localhost:8080/"
        },
        "outputId": "dbd48d2d-9417-4875-df64-c79b2aa572d8"
      },
      "source": [
        "g = np.array([1,2,3])\n",
        "h = g # point h to g so they share content\n",
        "h[1] = 100\n",
        "print(g)"
      ],
      "execution_count": null,
      "outputs": [
        {
          "output_type": "stream",
          "name": "stdout",
          "text": [
            "[  1 100   3]\n"
          ]
        }
      ]
    },
    {
      "cell_type": "code",
      "metadata": {
        "id": "SowYr20KdWHX",
        "colab": {
          "base_uri": "https://localhost:8080/"
        },
        "outputId": "7ea19bd4-4ac8-4855-de78-01930262ab41"
      },
      "source": [
        "g = np.array([1,2,3])\n",
        "h = g.copy() # explicitly make a copy\n",
        "h[1] = 100\n",
        "print(g)"
      ],
      "execution_count": null,
      "outputs": [
        {
          "output_type": "stream",
          "name": "stdout",
          "text": [
            "[1 2 3]\n"
          ]
        }
      ]
    },
    {
      "cell_type": "markdown",
      "metadata": {
        "id": "pfsr2QJehBs_"
      },
      "source": [
        "# Linear Algebra"
      ]
    },
    {
      "cell_type": "code",
      "metadata": {
        "id": "Y_bIRmo7hPDy",
        "colab": {
          "base_uri": "https://localhost:8080/"
        },
        "outputId": "19509674-fc6b-4505-fded-1b3a12084e34"
      },
      "source": [
        "a = np.ones((2,3))\n",
        "print(a)\n",
        "\n",
        "b = np.full((3,2),2)\n",
        "print(b)\n",
        "\n",
        "np.matmul(a,b)"
      ],
      "execution_count": null,
      "outputs": [
        {
          "output_type": "stream",
          "name": "stdout",
          "text": [
            "[[1. 1. 1.]\n",
            " [1. 1. 1.]]\n",
            "[[2 2]\n",
            " [2 2]\n",
            " [2 2]]\n"
          ]
        },
        {
          "output_type": "execute_result",
          "data": {
            "text/plain": [
              "array([[6., 6.],\n",
              "       [6., 6.]])"
            ]
          },
          "metadata": {},
          "execution_count": 85
        }
      ]
    },
    {
      "cell_type": "markdown",
      "metadata": {
        "id": "xMdgPZ-Eiotc"
      },
      "source": [
        "# Statistics"
      ]
    },
    {
      "cell_type": "code",
      "metadata": {
        "id": "DiJpwzH8itCU",
        "colab": {
          "base_uri": "https://localhost:8080/"
        },
        "outputId": "412ab73e-55e1-49ec-9846-2092ced0d8ab"
      },
      "source": [
        "a = np.array([[1,2,3], [4,5,6]])\n",
        "print(a.sum())\n",
        "print(a.mean())\n",
        "print(a.max())\n",
        "print(a.min())\n",
        "print(a.argmax())\n"
      ],
      "execution_count": null,
      "outputs": [
        {
          "output_type": "stream",
          "name": "stdout",
          "text": [
            "21\n",
            "3.5\n",
            "6\n",
            "1\n",
            "5\n"
          ]
        }
      ]
    },
    {
      "cell_type": "markdown",
      "metadata": {
        "id": "B9I-1Ix2Fot1"
      },
      "source": [
        "Specifying axis\n",
        "- Column: ``axis=0``\n",
        "- Row: ``axis=1``"
      ]
    },
    {
      "cell_type": "code",
      "metadata": {
        "id": "WTjj0oQzFqpe",
        "colab": {
          "base_uri": "https://localhost:8080/"
        },
        "outputId": "c4b8957f-0bdb-4c49-85bb-4db4d2c7b92e"
      },
      "source": [
        "print(np.min(a, axis=1)) # smallest values in rows\n",
        "print(np.max(a, axis=0)) # largest values in columns"
      ],
      "execution_count": null,
      "outputs": [
        {
          "output_type": "stream",
          "name": "stdout",
          "text": [
            "[1 4]\n",
            "[4 5 6]\n"
          ]
        }
      ]
    },
    {
      "cell_type": "markdown",
      "metadata": {
        "id": "q8vq3nCsGZXX"
      },
      "source": [
        "Others – Log and exponential"
      ]
    },
    {
      "cell_type": "code",
      "metadata": {
        "id": "LfrKsLCOGanj",
        "colab": {
          "base_uri": "https://localhost:8080/"
        },
        "outputId": "0b51b663-c817-4756-fe06-8228573516c8"
      },
      "source": [
        "print(np.log(a))\n",
        "print(np.exp(a))"
      ],
      "execution_count": null,
      "outputs": [
        {
          "output_type": "stream",
          "name": "stdout",
          "text": [
            "[[0.         0.69314718 1.09861229]\n",
            " [1.38629436 1.60943791 1.79175947]]\n",
            "[[  2.71828183   7.3890561   20.08553692]\n",
            " [ 54.59815003 148.4131591  403.42879349]]\n"
          ]
        }
      ]
    },
    {
      "cell_type": "markdown",
      "metadata": {
        "id": "5UbCvj9SpNe4"
      },
      "source": [
        "## Vertical stacking"
      ]
    },
    {
      "cell_type": "code",
      "metadata": {
        "id": "DBcR69YspPUM"
      },
      "source": [
        "v1 = np.array([1,2,3,4])\n",
        "v2 = np.array([5,6,7,8])\n",
        "\n",
        "np.vstack([v1,v2,v1,v2])"
      ],
      "execution_count": null,
      "outputs": []
    },
    {
      "cell_type": "code",
      "metadata": {
        "colab": {
          "base_uri": "https://localhost:8080/"
        },
        "id": "JaUPFFnTq1oT",
        "outputId": "a7af1b0f-5c3e-401d-f903-9bab8cb305ce"
      },
      "source": [
        "np.hstack([v2,v1,v1])"
      ],
      "execution_count": null,
      "outputs": [
        {
          "output_type": "execute_result",
          "data": {
            "text/plain": [
              "array([5, 6, 7, 8, 1, 2, 3, 4, 1, 2, 3, 4])"
            ]
          },
          "metadata": {
            "tags": []
          },
          "execution_count": 99
        }
      ]
    },
    {
      "cell_type": "code",
      "metadata": {
        "id": "4tB3b0rJrDbG"
      },
      "source": [
        "h1 = np.zeros((2,4))\n",
        "h2 = np.ones((2,2))\n",
        "\n",
        "np.hstack((h1,h2))"
      ],
      "execution_count": null,
      "outputs": []
    },
    {
      "cell_type": "markdown",
      "metadata": {
        "id": "mTIwXgT4twBY"
      },
      "source": [
        "## Plotting with Matplotlib\n",
        "- A simple example using post office international parcel charges for two countries"
      ]
    },
    {
      "cell_type": "code",
      "metadata": {
        "id": "fwS6AZmutvTQ"
      },
      "source": [
        "import matplotlib.pyplot as plt\n",
        "import numpy as np\n",
        "\n",
        "# Parcel weights start at 0.5kg to 20.5kgs in half kilo intervals\n",
        "x = np.arange(0.5, 20.5, 0.5)\n",
        "\n",
        "# Country 1 parcel charges\n",
        "c1 = np.array([16.0, 19.0, 21.5, 24.5, 25.0, 27.3, 29.6, 31.9, 34.2, 36.5, 38.8, 41.1, 43.4, 45.7, 48.0, 50.3, 52.6, 54.9, 57.2, 59.5,\n",
        "     61.8, 64.1, 66.4, 68.7, 71.0, 73.3, 75.6, 77.9, 80.2, 82.5, 84.8, 87.1, 89.4, 91.7, 94.0, 96.3, 98.6, 100.9, 103.2, 105.5])\n",
        "\n",
        "# Country 2 parcel charges\n",
        "c2 = np.array([16.0, 19.0, 21.5, 24.5, 25.5, 27.0, 28.5, 30.0, 31.5, 33, 34.5, 36, 37.5, 39, 40.5, 42, 43.5, 45, 46.5, 48,\n",
        "     49.5, 51, 52.5, 54, 55.5, 57, 58.5, 60, 61.5, 63, 64.5, 66, 67.5, 69, 70.5, 72, 73.5, 75, 76.5, 78])\n",
        "\n",
        "plt.plot(x,c1)\n",
        "plt.plot(x,c2)\n",
        "plt.xlabel(\"Weight (kg)\")\n",
        "plt.ylabel(\"Price (Thousand Won)\")\n",
        "plt.legend(['Country 1', 'Country 2'])\n",
        "plt.show()"
      ],
      "execution_count": null,
      "outputs": []
    },
    {
      "cell_type": "code",
      "metadata": {
        "id": "obhtBBp-2TZq"
      },
      "source": [
        "# Get estimated value from plot using np.interp() for postal price for a weight that's not in the array\n",
        "parcel_weight = 11.3 # change this to any other value and run again\n",
        "\n",
        "est1 = np.interp(parcel_weight, x, c1)\n",
        "\n",
        "est2 = np.interp(parcel_weight, x, c2)\n",
        "\n",
        "print(f'Estimated parcel prices for weight {parcel_weight:.2f} is {est1} for Country 1 and {est2:.2f} for Country 2')"
      ],
      "execution_count": null,
      "outputs": []
    }
  ]
}
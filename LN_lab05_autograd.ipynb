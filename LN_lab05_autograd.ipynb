{
  "nbformat": 4,
  "nbformat_minor": 0,
  "metadata": {
    "kernelspec": {
      "display_name": "Python 3",
      "language": "python",
      "name": "python3"
    },
    "language_info": {
      "codemirror_mode": {
        "name": "ipython",
        "version": 3
      },
      "file_extension": ".py",
      "mimetype": "text/x-python",
      "name": "python",
      "nbconvert_exporter": "python",
      "pygments_lexer": "ipython3",
      "version": "3.8.2"
    },
    "colab": {
      "provenance": []
    }
  },
  "cells": [
    {
      "cell_type": "markdown",
      "metadata": {
        "id": "nkR5FpvOqMtA"
      },
      "source": [
        "# Lab 5 – Autograd\n",
        "\n",
        "Before working on this notebook:\n",
        "  - Create a copy in your drive\n",
        "  - Set your Runtime to None\n",
        "\n",
        "Adapted from: [Original Source](https://www.youtube.com/redirect?event=video_description&redir_token=QUFFLUhqa2IzMmVuNGxhUm9XcnN1UXVydWVjZEpkaEJvd3xBQ3Jtc0ttTkp6Tml1MzlqT1Fia3dFNTdteFVlbW5BVGxDNzMxZW51YzVnTUR6cURhOU1TRHdqQmtUaWZfekppMkswUm52SUZ6d285SHA5YVdfMHF3WmhyYWZuODNER0trLTUyM3VQNHpCcnEtakZxWXMwNXI1RQ&q=https%3A%2F%2Fpytorch-tutorial-assets.s3.amazonaws.com%2Fyoutube-series%2FVideo%2B3%2B-%2BAutograd.ipynb)\n",
        "\n",
        "PyTorch's *Autograd* feature is part of what make PyTorch flexible and fast for building machine learning projects. It allows for the rapid and easy computation of multiple partial derivatives (also referred to as *gradients)* over a complex computation. This operation is central to backpropagation-based neural network learning.\n",
        "\n",
        "The power of autograd comes from the fact that it traces your computation dynamically *at runtime,* meaning that if your model has decision branches, or loops whose lengths are not known until runtime, the computation will still be traced correctly, and you'll get correct gradients to drive learning. This, combined with the fact that your models are built in Python, offers far more flexibility than frameworks that rely on static analysis of a more rigidly-structured model for computing gradients.\n",
        "\n",
        "## What Do We Need Autograd For?\n",
        "\n",
        "In training a model, we want to minimize the loss, $L$. In the idealized case of a perfect model, that means adjusting its learning weights - that is, the adjustable parameters of the function - such that loss is zero for all inputs. In the real world, it means an iterative process of nudging the learning weights until we see that we get a tolerable loss for a wide variety of inputs.\n",
        "\n",
        "How do we decide how far and in which direction to nudge the weights? We want to *minimize* the loss, which means making its first derivative with respect to the input equal to 0: $\\frac{\\partial L}{\\partial x} = 0$.\n",
        "\n",
        "Recall, though, that the loss is not *directly* derived from the input, but a function of the model's output (which is a function of the input directly). By the chain rule of differential calculus, we have $\\frac{\\partial {L({\\vec y})}}{\\partial x}$ = $\\frac{\\partial L}{\\partial y}\\frac{\\partial y}{\\partial x}$ = $\\frac{\\partial L}{\\partial y}\\frac{\\partial M(x)}{\\partial x}$.\n",
        "\n",
        "$\\frac{\\partial M(x)}{\\partial x}$ is where things get complex. The partial derivatives of the model's outputs with respect to its inputs, if we were to expand the expression using the chain rule again, would involve many local partial derivatives over every multiplied learning weight, every activation function, and every other mathematical transformation in the model. The full expression for each such partial derivative is the sum of the products of the local gradient of *every possible path* through the computation graph that ends with the variable whose gradient we are trying to measure.\n",
        "\n",
        "In particular, the gradients over the learning weights are of interest to us - they tell us *what direction to change each weight* to get the loss function closer to zero.\n",
        "\n",
        "Since the number of such local derivatives (each corresponding to a separate path through the model's computation graph) will tend to go up exponentially with the depth of a neural network, so does the complexity in computing them. This is where autograd comes in: It tracks the history of every computation. Every computed tensor in your PyTorch model carries a history of its input tensors and the function used to create it. Combined with the fact that PyTorch functions meant to act on tensors each have a built-in implementation for computing their own derivatives, this greatly speeds the computation of the local derivatives needed for learning.\n",
        "\n",
        "## A Simple Example\n",
        "\n",
        "Let's start with a straightforward example. First, we'll do some imports to let us graph our results:"
      ]
    },
    {
      "cell_type": "code",
      "metadata": {
        "id": "uUj6dncKqMtD"
      },
      "source": [
        "%matplotlib inline"
      ],
      "execution_count": null,
      "outputs": []
    },
    {
      "cell_type": "code",
      "metadata": {
        "id": "Kvvyf_HHqMtE"
      },
      "source": [
        "import torch\n",
        "\n",
        "import matplotlib.pyplot as plt\n",
        "import matplotlib.ticker as ticker\n",
        "import math"
      ],
      "execution_count": null,
      "outputs": []
    },
    {
      "cell_type": "markdown",
      "metadata": {
        "id": "R5Y-zYhLqMtF"
      },
      "source": [
        "Next, we'll create an input tensor full of evenly spaced values on the interval $[0, 2{\\pi}]$, and specify `requires_grad=True`. (Like most functions that create tensors, `torch.linspace()` accepts an optional `requires_grad` option.) Setting this flag means that in every computation that follows, autograd will be accumulating the history of the computation in the output tensors of that computation."
      ]
    },
    {
      "cell_type": "code",
      "metadata": {
        "id": "bKDIPaS4qMtF",
        "colab": {
          "base_uri": "https://localhost:8080/"
        },
        "outputId": "b00d8797-f7af-4ca9-b940-4252f6b5439f"
      },
      "source": [
        "a = torch.linspace(0., 2. * math.pi, steps=25, requires_grad=True)\n",
        "print(a)"
      ],
      "execution_count": null,
      "outputs": [
        {
          "output_type": "stream",
          "name": "stdout",
          "text": [
            "tensor([0.0000, 0.2618, 0.5236, 0.7854, 1.0472, 1.3090, 1.5708, 1.8326, 2.0944,\n",
            "        2.3562, 2.6180, 2.8798, 3.1416, 3.4034, 3.6652, 3.9270, 4.1888, 4.4506,\n",
            "        4.7124, 4.9742, 5.2360, 5.4978, 5.7596, 6.0214, 6.2832],\n",
            "       requires_grad=True)\n"
          ]
        }
      ]
    },
    {
      "cell_type": "code",
      "source": [
        "#Q1. What would happen if requires_grad is not set to True?\n",
        "\n",
        "# When requires_grad is set the false, there is no tracking of the tensors.\n",
        "# computation will not be tracked nd gradient calculation will not be possible."
      ],
      "metadata": {
        "id": "Jav30TPR_xiB"
      },
      "execution_count": null,
      "outputs": []
    },
    {
      "cell_type": "markdown",
      "metadata": {
        "id": "ybsuIr62qMtG"
      },
      "source": [
        "Next, we'll perform a computation, and plot its output in terms of its inputs:"
      ]
    },
    {
      "cell_type": "code",
      "metadata": {
        "id": "HSv-TpnKqMtH",
        "colab": {
          "base_uri": "https://localhost:8080/",
          "height": 282
        },
        "outputId": "1affa41a-2b7d-4112-edd6-919b1724e13b"
      },
      "source": [
        "b = torch.sin(a)\n",
        "plt.plot(a.detach(), b.detach()) # can't call plot on tensors that require grads. Detach them first\n"
      ],
      "execution_count": null,
      "outputs": [
        {
          "output_type": "execute_result",
          "data": {
            "text/plain": [
              "[<matplotlib.lines.Line2D at 0x7f9f0270d490>]"
            ]
          },
          "metadata": {},
          "execution_count": 213
        },
        {
          "output_type": "display_data",
          "data": {
            "text/plain": [
              "<Figure size 432x288 with 1 Axes>"
            ],
            "image/png": "[encoded data removed]"
          },
          "metadata": {
            "needs_background": "light"
          }
        }
      ]
    },
    {
      "cell_type": "markdown",
      "metadata": {
        "id": "6ysTX39TqMtI"
      },
      "source": [
        "Let's have a closer look at the tensor `b`. When we print it, we see an indicator that it is tracking its computation history:"
      ]
    },
    {
      "cell_type": "code",
      "metadata": {
        "id": "KW8Qr2b6qMtI",
        "colab": {
          "base_uri": "https://localhost:8080/"
        },
        "outputId": "4bb877d5-7932-430a-bb70-7916a2408723"
      },
      "source": [
        "print(b)"
      ],
      "execution_count": null,
      "outputs": [
        {
          "output_type": "stream",
          "name": "stdout",
          "text": [
            "tensor([ 0.0000e+00,  2.5882e-01,  5.0000e-01,  7.0711e-01,  8.6603e-01,\n",
            "         9.6593e-01,  1.0000e+00,  9.6593e-01,  8.6603e-01,  7.0711e-01,\n",
            "         5.0000e-01,  2.5882e-01, -8.7423e-08, -2.5882e-01, -5.0000e-01,\n",
            "        -7.0711e-01, -8.6603e-01, -9.6593e-01, -1.0000e+00, -9.6593e-01,\n",
            "        -8.6603e-01, -7.0711e-01, -5.0000e-01, -2.5882e-01,  1.7485e-07],\n",
            "       grad_fn=<SinBackward0>)\n"
          ]
        }
      ]
    },
    {
      "cell_type": "code",
      "source": [
        "#Q2. What does the argument grad_fn=<SinBackward0> indicate here?\n",
        "\n",
        "# The argument grad_fn=<SinBackward0> is the derivative of the tensors\n",
        "# which is the backpropagation step.\n",
        "\n",
        "# when we execute the backpropagation step and conmpute gradients,\n",
        "# we will need the derivative\n"
      ],
      "metadata": {
        "id": "lCo5M2Ew4ieZ"
      },
      "execution_count": null,
      "outputs": []
    },
    {
      "cell_type": "markdown",
      "metadata": {
        "id": "JqoyjePmqMtJ"
      },
      "source": [
        "Let's perform some more computations:"
      ]
    },
    {
      "cell_type": "code",
      "metadata": {
        "id": "_VWsODeNqMtJ",
        "colab": {
          "base_uri": "https://localhost:8080/"
        },
        "outputId": "7b719770-fa5b-47a8-81bb-9603d7de882a"
      },
      "source": [
        "c = 2 * b\n",
        "print(f'c = {c}')\n",
        "\n",
        "d = c + 1\n",
        "print(f'd = {d}')"
      ],
      "execution_count": null,
      "outputs": [
        {
          "output_type": "stream",
          "name": "stdout",
          "text": [
            "c = tensor([ 0.0000e+00,  5.1764e-01,  1.0000e+00,  1.4142e+00,  1.7321e+00,\n",
            "         1.9319e+00,  2.0000e+00,  1.9319e+00,  1.7321e+00,  1.4142e+00,\n",
            "         1.0000e+00,  5.1764e-01, -1.7485e-07, -5.1764e-01, -1.0000e+00,\n",
            "        -1.4142e+00, -1.7321e+00, -1.9319e+00, -2.0000e+00, -1.9319e+00,\n",
            "        -1.7321e+00, -1.4142e+00, -1.0000e+00, -5.1764e-01,  3.4969e-07],\n",
            "       grad_fn=<MulBackward0>)\n",
            "d = tensor([ 1.0000e+00,  1.5176e+00,  2.0000e+00,  2.4142e+00,  2.7321e+00,\n",
            "         2.9319e+00,  3.0000e+00,  2.9319e+00,  2.7321e+00,  2.4142e+00,\n",
            "         2.0000e+00,  1.5176e+00,  1.0000e+00,  4.8236e-01, -3.5763e-07,\n",
            "        -4.1421e-01, -7.3205e-01, -9.3185e-01, -1.0000e+00, -9.3185e-01,\n",
            "        -7.3205e-01, -4.1421e-01,  4.7684e-07,  4.8236e-01,  1.0000e+00],\n",
            "       grad_fn=<AddBackward0>)\n"
          ]
        }
      ]
    },
    {
      "cell_type": "markdown",
      "metadata": {
        "id": "-AbHP-GTqMtK"
      },
      "source": [
        "Finally, let's compute a single-element output."
      ]
    },
    {
      "cell_type": "code",
      "metadata": {
        "id": "X6pJkaxGqMtK",
        "colab": {
          "base_uri": "https://localhost:8080/"
        },
        "outputId": "06a635b9-a94d-4877-ae52-0af4769222fb"
      },
      "source": [
        "out = d.sum()\n",
        "print(out)"
      ],
      "execution_count": null,
      "outputs": [
        {
          "output_type": "stream",
          "name": "stdout",
          "text": [
            "tensor(25., grad_fn=<SumBackward0>)\n"
          ]
        }
      ]
    },
    {
      "cell_type": "markdown",
      "metadata": {
        "id": "geLHAAMwqMtK"
      },
      "source": [
        "## Tracking the computations\n",
        "Each `grad_fn` stored with our tensors allows you to walk the computation all the way back to its inputs with its `next_functions` property. We can see below that drilling down on this property on `d` shows us the gradient functions for all the prior tensors. Note that `a.grad_fn` is reported as `None`, indicating that this was an input to the function with no history of its own."
      ]
    },
    {
      "cell_type": "code",
      "metadata": {
        "id": "crvLA4mQqMtK",
        "colab": {
          "base_uri": "https://localhost:8080/"
        },
        "outputId": "bf3b6753-8d0b-48ca-d848-92485624df3e"
      },
      "source": [
        "print('d:')\n",
        "print(d.grad_fn)\n",
        "print(d.grad_fn.next_functions)\n",
        "print(d.grad_fn.next_functions[0][0].next_functions)\n",
        "print(d.grad_fn.next_functions[0][0].next_functions[0][0].next_functions)\n",
        "print(d.grad_fn.next_functions[0][0].next_functions[0][0].next_functions[0][0].next_functions)\n",
        "print('\\nc:')\n",
        "print(c.grad_fn)\n",
        "print('\\nb:')\n",
        "print(b.grad_fn)\n",
        "print('\\na:')\n",
        "print(a.grad_fn)"
      ],
      "execution_count": null,
      "outputs": [
        {
          "output_type": "stream",
          "name": "stdout",
          "text": [
            "d:\n",
            "<AddBackward0 object at 0x7f9f026979d0>\n",
            "((<MulBackward0 object at 0x7f9f02697b90>, 0), (None, 0))\n",
            "((<SinBackward0 object at 0x7f9f02697a50>, 0), (None, 0))\n",
            "((<AccumulateGrad object at 0x7f9f02697a90>, 0),)\n",
            "()\n",
            "\n",
            "c:\n",
            "<MulBackward0 object at 0x7f9f02697a50>\n",
            "\n",
            "b:\n",
            "<SinBackward0 object at 0x7f9f02697a50>\n",
            "\n",
            "a:\n",
            "None\n"
          ]
        }
      ]
    },
    {
      "cell_type": "markdown",
      "metadata": {
        "id": "_-omojMIqMtL"
      },
      "source": [
        "With all this machinery in place, how do we get derivatives out? You call the `backward()` method on the output, and check the input's `grad` property to inspect the gradients. When you call `.backward()` on a tensor with no arguments, it expects the calling tensor to contain only a single element, as is the case when computing a loss function."
      ]
    },
    {
      "cell_type": "code",
      "metadata": {
        "id": "dWRM19ZpqMtL",
        "colab": {
          "base_uri": "https://localhost:8080/",
          "height": 369
        },
        "outputId": "732295c8-4504-475a-c58f-50dafd5be3a5"
      },
      "source": [
        "out.backward()\n",
        "print(a.grad)\n",
        "plt.plot(a.detach(), a.grad.detach())"
      ],
      "execution_count": null,
      "outputs": [
        {
          "output_type": "stream",
          "name": "stdout",
          "text": [
            "tensor([ 2.0000e+00,  1.9319e+00,  1.7321e+00,  1.4142e+00,  1.0000e+00,\n",
            "         5.1764e-01, -8.7423e-08, -5.1764e-01, -1.0000e+00, -1.4142e+00,\n",
            "        -1.7321e+00, -1.9319e+00, -2.0000e+00, -1.9319e+00, -1.7321e+00,\n",
            "        -1.4142e+00, -1.0000e+00, -5.1764e-01,  2.3850e-08,  5.1764e-01,\n",
            "         1.0000e+00,  1.4142e+00,  1.7321e+00,  1.9319e+00,  2.0000e+00])\n"
          ]
        },
        {
          "output_type": "execute_result",
          "data": {
            "text/plain": [
              "[<matplotlib.lines.Line2D at 0x7f9f026f45d0>]"
            ]
          },
          "metadata": {},
          "execution_count": 219
        },
        {
          "output_type": "display_data",
          "data": {
            "text/plain": [
              "<Figure size 432x288 with 1 Axes>"
            ],
            "image/png": "[encoded data removed]"
          },
          "metadata": {
            "needs_background": "light"
          }
        }
      ]
    },
    {
      "cell_type": "code",
      "source": [
        "#Q3. What is the range of values of the gradients for this function?\n",
        "\n",
        "# The range of values of the gradients for this function is from -2 to 2. (2*cos(a))"
      ],
      "metadata": {
        "id": "i6D10PWr7EA3"
      },
      "execution_count": null,
      "outputs": []
    },
    {
      "cell_type": "markdown",
      "metadata": {
        "id": "70UPEyxDqMtL"
      },
      "source": [
        "Recall the computation steps we took to get here:\n",
        "\n",
        "```\n",
        "a = torch.linspace(0., 2. * math.pi, steps=25, requires_grad=True)\n",
        "b = torch.sin(a)\n",
        "c = 2 * b\n",
        "d = c + 1\n",
        "out = d.sum()\n",
        "```\n",
        "\n",
        "Adding a constant, as we did to compute `d`, does not change the derivative. That leaves $c = 2 * b = 2 * sin(a)$, the derivative of which should be $2 * cos(a)$. Looking at the graph above, that's just what we see.\n",
        "\n",
        "### Exercise"
      ]
    },
    {
      "cell_type": "code",
      "source": [
        "# Q4. Create a tensor containing the numbers 0 to 4 (5 floats) and set it to keep track of the history of the computation in the output tensors\n",
        "x = torch.linspace(0, 4, steps = 5, requires_grad=True)\n",
        "print(x)"
      ],
      "metadata": {
        "id": "GJKH2mTIBICE",
        "colab": {
          "base_uri": "https://localhost:8080/"
        },
        "outputId": "06c02dd2-a29d-4010-f156-35227062be19"
      },
      "execution_count": null,
      "outputs": [
        {
          "output_type": "stream",
          "name": "stdout",
          "text": [
            "tensor([0., 1., 2., 3., 4.], requires_grad=True)\n"
          ]
        }
      ]
    },
    {
      "cell_type": "code",
      "source": [
        "# Q5. Create a new tensor y to be the dot product of x on itself. Use torch.dot()\n",
        "\n",
        "y = torch.dot(x, x)\n",
        "\n",
        "#print(y)\n",
        "\n",
        "print(y)\n",
        "\n",
        "# Q6. Calculate the gradient of y with respect to x by calling the function for backpropagation\n",
        "\n",
        "y.backward()\n",
        "\n",
        "# Q7. Print the gradient\n",
        "\n",
        "print(x.grad)"
      ],
      "metadata": {
        "id": "RdBlQCwbDF-I",
        "colab": {
          "base_uri": "https://localhost:8080/"
        },
        "outputId": "13cebc02-7800-45cd-a9ed-aacdbdee4138"
      },
      "execution_count": null,
      "outputs": [
        {
          "output_type": "stream",
          "name": "stdout",
          "text": [
            "tensor(30., grad_fn=<DotBackward0>)\n",
            "tensor([0., 2., 4., 6., 8.])\n"
          ]
        }
      ]
    },
    {
      "cell_type": "code",
      "source": [
        "# Q8. Are the gradients consistent with what you would expect from differentiating the function y = x^2?\n",
        "\n",
        "# The gradients are consistent.\n",
        "\n",
        "# There were cases when I ran the code multiple times, and there was an\n",
        "# overshoot in values of what the gradient should have been.\n",
        "\n",
        "# Q9. Plot the graph for x and its gradients. Use detach() to detach them first\n",
        "\n",
        "plt.plot(x.detach(), x.grad.detach())\n"
      ],
      "metadata": {
        "id": "OXZrc9_6Extn",
        "colab": {
          "base_uri": "https://localhost:8080/",
          "height": 282
        },
        "outputId": "a391d706-24ed-4dfc-fcfb-d9251882a294"
      },
      "execution_count": null,
      "outputs": [
        {
          "output_type": "execute_result",
          "data": {
            "text/plain": [
              "[<matplotlib.lines.Line2D at 0x7f9f027f09d0>]"
            ]
          },
          "metadata": {},
          "execution_count": 223
        },
        {
          "output_type": "display_data",
          "data": {
            "text/plain": [
              "<Figure size 432x288 with 1 Axes>"
            ],
            "image/png": "[encoded data removed]"
          },
          "metadata": {
            "needs_background": "light"
          }
        }
      ]
    },
    {
      "cell_type": "code",
      "source": [
        "# Q10. What function is dy/dx based on the plot? Verify further by running this code.\n",
        "x.grad == 2 * x\n",
        "\n",
        "# y = 2 * x.\n"
      ],
      "metadata": {
        "id": "7aoq5-daFpzS",
        "colab": {
          "base_uri": "https://localhost:8080/"
        },
        "outputId": "b8cf18aa-d3ee-4f75-90fd-cf39e3eba8d1"
      },
      "execution_count": null,
      "outputs": [
        {
          "output_type": "execute_result",
          "data": {
            "text/plain": [
              "tensor([True, True, True, True, True])"
            ]
          },
          "metadata": {},
          "execution_count": 224
        }
      ]
    },
    {
      "cell_type": "markdown",
      "source": [
        "## Autograd in NN Training\n",
        "\n",
        "We've had a brief look at how autograd works, but how does it look when it's used for its intended purpose? Let's define a small model and examine how it changes after a single training batch. First, define a few constants, our model, and some stand-ins for inputs and outputs:"
      ],
      "metadata": {
        "id": "V-_KBvmeBBc9"
      }
    },
    {
      "cell_type": "code",
      "metadata": {
        "id": "vfUBrxziqMtL"
      },
      "source": [
        "BATCH_SIZE = 16\n",
        "DIM_IN = 1000\n",
        "HIDDEN_SIZE = 100\n",
        "DIM_OUT = 10\n",
        "\n",
        "class TinyModel(torch.nn.Module):\n",
        "\n",
        "    def __init__(self):\n",
        "        super(TinyModel, self).__init__()\n",
        "\n",
        "        self.layer1 = torch.nn.Linear(1000, 100)\n",
        "        self.relu = torch.nn.ReLU()\n",
        "        self.layer2 = torch.nn.Linear(100, 10)\n",
        "\n",
        "    def forward(self, x):\n",
        "        x = self.layer1(x)\n",
        "        x = self.relu(x)\n",
        "        x = self.layer2(x)\n",
        "        return x\n",
        "\n",
        "some_input = torch.randn(BATCH_SIZE, DIM_IN, requires_grad=False)\n",
        "ideal_output = torch.randn(BATCH_SIZE, DIM_OUT, requires_grad=False)\n",
        "\n",
        "model = TinyModel()"
      ],
      "execution_count": null,
      "outputs": []
    },
    {
      "cell_type": "code",
      "source": [
        "#Q11. How many input units does this NN have?\n",
        "\n",
        "# There are 1000 inputs units for this NN.\n",
        "\n",
        "#Q12. How many output units does it have?\n",
        "\n",
        "# There are 10 output units for this NN.\n",
        "\n",
        "#Q13. How many hidden layers does it have?\n",
        "\n",
        "# There are 100 hidden layers for this NN.\n",
        "\n",
        "# Hidden size is 100 but there is only 1 hidden layer. 100 represents the number\n",
        "# neurons in the hidden layer."
      ],
      "metadata": {
        "id": "B3hP10jARt4m"
      },
      "execution_count": null,
      "outputs": []
    },
    {
      "cell_type": "markdown",
      "metadata": {
        "id": "pTeLRPAkqMtM"
      },
      "source": [
        "One thing you might notice is that we never specify `requires_grad=True` for the model's layers. Within a subclass of `torch.nn.module`, it's assumed that we want to track gradients on the layers' weights for learning.\n",
        "\n",
        "## Initial Parameter Values\n",
        "If we look at the layers of the model, we can examine the values of the weights:"
      ]
    },
    {
      "cell_type": "code",
      "metadata": {
        "id": "1QJMgfuhqMtM",
        "colab": {
          "base_uri": "https://localhost:8080/"
        },
        "outputId": "e3187a70-34b8-4537-ad7b-7c74bd9fd724"
      },
      "source": [
        "print(f\"Layer2 sample weights = \\n{model.layer2.weight[0][0:10]}\") # just a small slice\n",
        "print(f\"Layer2 sample bias = \\n{model.layer2.bias[0]}\") # just one bias\n",
        "\n",
        "print(\"\\nGradients:\")\n",
        "print(f\"Weights = {model.layer2.weight.grad}\")\n",
        "print(f\"Bias = {model.layer2.bias.grad}\")\n"
      ],
      "execution_count": null,
      "outputs": [
        {
          "output_type": "stream",
          "name": "stdout",
          "text": [
            "Layer2 sample weights = \n",
            "tensor([-0.0478, -0.0642, -0.0180,  0.0807, -0.0270, -0.0368,  0.0386,  0.0007,\n",
            "         0.0322,  0.0890], grad_fn=<SliceBackward0>)\n",
            "Layer2 sample bias = \n",
            "-0.005954301450401545\n",
            "\n",
            "Gradients:\n",
            "Weights = None\n",
            "Bias = None\n"
          ]
        }
      ]
    },
    {
      "cell_type": "code",
      "source": [
        "#Q14. Why are the gradients 'None' for the sample weights and bias?\n",
        "\n",
        "# The gradients for the sample weights and bias are \"None\" because the\n",
        "# values of both the sample weights and bias does not have a gradient.\n",
        "# Since their values are approximately 0 with little directional changes,\n",
        "# there is no gradient.\n",
        "\n",
        "# You haven't computed any gradient since it is only a forward pass.\n",
        "# Gradients only occur during the backward pass\n"
      ],
      "metadata": {
        "id": "2Ip8k9ltRgmN"
      },
      "execution_count": null,
      "outputs": []
    },
    {
      "cell_type": "markdown",
      "metadata": {
        "id": "ElVD-ne-qMtM"
      },
      "source": [
        "## Forward Pass & Loss Calculation\n",
        "Let's see how this changes when we run through one training batch. For a loss function, we'll just use the square of the Euclidean distance between our `prediction` and the `ideal_output` (MSE), and we'll use a basic stochastic gradient descent optimizer."
      ]
    },
    {
      "cell_type": "code",
      "metadata": {
        "id": "iMSVIC3mqMtM",
        "colab": {
          "base_uri": "https://localhost:8080/"
        },
        "outputId": "be61dcae-6836-4a3e-e159-0e4bf1feeae4"
      },
      "source": [
        "optimizer = torch.optim.SGD(model.parameters(), lr=0.001)\n",
        "\n",
        "prediction = model(some_input)\n",
        "\n",
        "loss = (ideal_output - prediction).pow(2).sum() # MSE\n",
        "print(loss)"
      ],
      "execution_count": null,
      "outputs": [
        {
          "output_type": "stream",
          "name": "stdout",
          "text": [
            "tensor(150.6898, grad_fn=<SumBackward0>)\n"
          ]
        }
      ]
    },
    {
      "cell_type": "markdown",
      "metadata": {
        "id": "rUrIEJD_qMtM"
      },
      "source": [
        "## Backpropagating the Loss: `backward()`\n",
        "Now, let's call `loss.backward()` and see what happens:"
      ]
    },
    {
      "cell_type": "code",
      "metadata": {
        "id": "dZxtaspRqMtN",
        "colab": {
          "base_uri": "https://localhost:8080/"
        },
        "outputId": "092c19b4-a1f6-4d52-b8a5-6816226b037b"
      },
      "source": [
        "loss.backward()\n",
        "# Print the parameters\n",
        "print(\"Parameters:\")\n",
        "print(f\"Layer2 sample weights = {model.layer2.weight[0][0:10]}\")\n",
        "print(f\"Layer2 sample bias = {model.layer2.bias[0]}\")\n",
        "\n",
        "# Print the gradients\n",
        "print(\"\\nGradients:\")\n",
        "print(f\"Layer2 sample weight gradients = {model.layer2.weight.grad[0][0:10]}\")\n",
        "print(f\"Layer2 sample bias gradient = {model.layer2.bias.grad[0]}\")\n"
      ],
      "execution_count": null,
      "outputs": [
        {
          "output_type": "stream",
          "name": "stdout",
          "text": [
            "Parameters:\n",
            "Layer2 sample weights = tensor([-0.0478, -0.0642, -0.0180,  0.0807, -0.0270, -0.0368,  0.0386,  0.0007,\n",
            "         0.0322,  0.0890], grad_fn=<SliceBackward0>)\n",
            "Layer2 sample bias = -0.005954301450401545\n",
            "\n",
            "Gradients:\n",
            "Layer2 sample weight gradients = tensor([ 0.8785,  1.3033, -1.1519, -0.5154,  4.4568,  4.0311,  0.4275,  0.4365,\n",
            "         5.8897,  0.7452])\n",
            "Layer2 sample bias gradient = 11.565736770629883\n"
          ]
        }
      ]
    },
    {
      "cell_type": "code",
      "source": [
        "#Q15. Are the sample weights and bias the same as before the loss is backpropagated?\n",
        "\n",
        "# No. The sample weights and gradients are different.\n",
        "\n",
        "# Yes. Although loss has been backpropagared, the weights are the same bc\n",
        "# there is not updates yet which requires the optimizer.\n",
        "\n",
        "#Q16. Are the gradients of the sample weights and bias the same as before the loss is backpropagated?\n",
        "\n",
        "# No. The gradient of the sample weights and bias is different than before the\n",
        "# loss is backpropagated.\n"
      ],
      "metadata": {
        "id": "MeUKCLt2SnNR"
      },
      "execution_count": null,
      "outputs": []
    },
    {
      "cell_type": "markdown",
      "metadata": {
        "id": "asSdpVIvqMtN"
      },
      "source": [
        "## Updating the Parameters with the Optimiser: `step()`\n",
        "We can see that the gradients have been computed for each learning weight, but the weights remain unchanged, because we haven't run the optimiser yet. The optimiser is responsible for updating model weights based on the computed gradients."
      ]
    },
    {
      "cell_type": "code",
      "metadata": {
        "id": "FzETNdd2qMtN",
        "colab": {
          "base_uri": "https://localhost:8080/"
        },
        "outputId": "1289c5b6-be3e-4b4d-9411-7a8ee24814ab"
      },
      "source": [
        "optimizer.step()\n",
        "print(\"Parameter updates:\")\n",
        "print(f\"Layer2 weights = {model.layer2.weight[0][0:10]}\")\n",
        "print(f\"Layer2 bias = {model.layer2.bias[0]}\")\n",
        "\n",
        "print(\"\\nGradients:\")\n",
        "print(f\"Layer2 weight gradients = {model.layer2.weight.grad[0][0:10]}\")\n",
        "print(f\"Layer2 bias gradients = {model.layer2.bias.grad[0]}\")\n"
      ],
      "execution_count": null,
      "outputs": [
        {
          "output_type": "stream",
          "name": "stdout",
          "text": [
            "Parameter updates:\n",
            "Layer2 weights = tensor([-0.0487, -0.0655, -0.0169,  0.0812, -0.0314, -0.0408,  0.0381,  0.0003,\n",
            "         0.0263,  0.0883], grad_fn=<SliceBackward0>)\n",
            "Layer2 bias = -0.017520038411021233\n",
            "\n",
            "Gradients:\n",
            "Layer2 weight gradients = tensor([ 0.8785,  1.3033, -1.1519, -0.5154,  4.4568,  4.0311,  0.4275,  0.4365,\n",
            "         5.8897,  0.7452])\n",
            "Layer2 bias gradients = 11.565736770629883\n"
          ]
        }
      ]
    },
    {
      "cell_type": "markdown",
      "metadata": {
        "id": "HtrGaKX0qMtN"
      },
      "source": [
        "You should see that `layer2`'s sample weights and bias have changed.\n",
        "\n",
        "## Resetting the gradients: `zero_grad()`\n",
        "One important thing about the process: After calling `optimizer.step()`, you need to call `optimizer.zero_grad()`, or else every time you run `loss.backward()`, the gradients on the learning weights will accumulate:"
      ]
    },
    {
      "cell_type": "code",
      "metadata": {
        "id": "nZBDqMcPqMtN",
        "colab": {
          "base_uri": "https://localhost:8080/"
        },
        "outputId": "155c87a7-5d79-4876-9fd1-dad42bf172ae"
      },
      "source": [
        "print(f\"Layer2 some weights: \\n{model.layer2.weight[0][0:10]}\")\n",
        "print(f\"Layer2 one bias: {model.layer2.bias[0]}\")\n",
        "\n",
        "for i in range(0, 5):\n",
        "    prediction = model(some_input)\n",
        "    loss = (ideal_output - prediction).pow(2).sum()\n",
        "    loss.backward()\n",
        "\n",
        "print(\"\\nAfter a few iterations of training:\")\n",
        "print(f\"Layer2 some weights GRADs: \\n{model.layer2.weight.grad[0][0:10]}\")\n",
        "print(f\"Layer2 one bias GRAD: {model.layer2.bias.grad[0]}\")\n",
        "\n",
        "optimizer.zero_grad()\n",
        "\n",
        "print(\"\\nAfter resetting gradients:\")\n",
        "print(f\"Layer2 some weights = {model.layer2.weight.grad[0][0:10]}\")\n",
        "print(f\"Layer2 one bias = {model.layer2.bias.grad[0]}\")\n"
      ],
      "execution_count": null,
      "outputs": [
        {
          "output_type": "stream",
          "name": "stdout",
          "text": [
            "Layer2 some weights: \n",
            "tensor([-0.0487, -0.0655, -0.0169,  0.0812, -0.0314, -0.0408,  0.0381,  0.0003,\n",
            "         0.0263,  0.0883], grad_fn=<SliceBackward0>)\n",
            "Layer2 one bias: -0.017520038411021233\n",
            "\n",
            "After a few iterations of training:\n",
            "Layer2 some weights GRADs: \n",
            "tensor([12.5984,  8.9128, -1.9468,  3.2612, 24.1296, 31.2594, -0.8744,  3.7633,\n",
            "        25.4490, 11.6023])\n",
            "Layer2 one bias GRAD: 55.192691802978516\n",
            "\n",
            "After resetting gradients:\n",
            "Layer2 some weights = tensor([0., 0., 0., 0., 0., 0., 0., 0., 0., 0.])\n",
            "Layer2 one bias = 0.0\n"
          ]
        }
      ]
    },
    {
      "cell_type": "code",
      "source": [
        "#Q17. Why are the gradients after running loss.backward() multiple times much bigger?\n",
        "\n",
        "# In this case, we are not keeping track of previous gradients. So when\n",
        "# backtracking, we can overshoot the optimum and therefore getting larger\n",
        "# gradients.\n",
        "\n",
        "# We didn't zero the grads before running each training. they will accumulate."
      ],
      "metadata": {
        "id": "y-ShDsdCYdv4"
      },
      "execution_count": null,
      "outputs": []
    },
    {
      "cell_type": "markdown",
      "metadata": {
        "id": "hDDjrsTFqMtN"
      },
      "source": [
        "## Turning Autograd Off and On\n",
        "\n",
        "There are situations where you will need fine-grained control over whether autograd is enabled. There are multiple ways to do this, depending on the situation.\n",
        "\n",
        "The simplest is to change the `requires_grad` flag on a tensor directly:"
      ]
    },
    {
      "cell_type": "code",
      "metadata": {
        "id": "YYrJ9XR0qMtO",
        "colab": {
          "base_uri": "https://localhost:8080/"
        },
        "outputId": "0a248a94-48bc-43e3-c0ab-bbdd3182dced"
      },
      "source": [
        "a = torch.ones(2, 3, requires_grad=True)\n",
        "print(f'a = {a}')\n",
        "\n",
        "b1 = 2 * a\n",
        "print(f'b1 = {b1}')\n",
        "\n",
        "a.requires_grad = False\n",
        "b2 = 2 * a\n",
        "print(f'b2 = {b2}')\n"
      ],
      "execution_count": null,
      "outputs": [
        {
          "output_type": "stream",
          "name": "stdout",
          "text": [
            "a = tensor([[1., 1., 1.],\n",
            "        [1., 1., 1.]], requires_grad=True)\n",
            "b1 = tensor([[2., 2., 2.],\n",
            "        [2., 2., 2.]], grad_fn=<MulBackward0>)\n",
            "b2 = tensor([[2., 2., 2.],\n",
            "        [2., 2., 2.]])\n"
          ]
        }
      ]
    },
    {
      "cell_type": "markdown",
      "metadata": {
        "id": "c4Yd1rLTqMtO"
      },
      "source": [
        "In the cell above, we see that `b1` has a `grad_fn` (i.e., a traced computation history), which is what we expect, since it was derived from a tensor, `a`, that had autograd turned on. When we turn off autograd explicitly with `a.requires_grad = False`, computation history is no longer tracked, as we see when we compute `b2`.\n",
        "\n",
        "If you only need autograd turned off temporarily, a better way is to use the `torch.no_grad()`:"
      ]
    },
    {
      "cell_type": "code",
      "metadata": {
        "scrolled": false,
        "id": "75yoOI_jqMtO",
        "colab": {
          "base_uri": "https://localhost:8080/"
        },
        "outputId": "ab6a553e-2f79-47ea-81ca-89429ccb27a6"
      },
      "source": [
        "a = torch.ones(2, 3, requires_grad=True) * 2\n",
        "b = torch.ones(2, 3, requires_grad=True) * 3\n",
        "\n",
        "c1 = a + b\n",
        "print(f\"c1: \\n{c1}\")\n",
        "\n",
        "with torch.no_grad():\n",
        "    c2 = a + b\n",
        "\n",
        "print(f\"c2: \\n{c2}\")\n",
        "\n",
        "c3 = a * b\n",
        "print(f\"c3: \\n{c3}\")\n"
      ],
      "execution_count": null,
      "outputs": [
        {
          "output_type": "stream",
          "name": "stdout",
          "text": [
            "c1: \n",
            "tensor([[5., 5., 5.],\n",
            "        [5., 5., 5.]], grad_fn=<AddBackward0>)\n",
            "c2: \n",
            "tensor([[5., 5., 5.],\n",
            "        [5., 5., 5.]])\n",
            "c3: \n",
            "tensor([[6., 6., 6.],\n",
            "        [6., 6., 6.]], grad_fn=<MulBackward0>)\n"
          ]
        }
      ]
    },
    {
      "cell_type": "code",
      "source": [
        "#Q18. Can we do differentiation on computations on c1? Why?\n",
        "\n",
        "# Yes. Grad is enabled and backpropagating is possible.\n",
        "\n",
        "#Q19. Can we do differentiation on computations on c2? Why?\n",
        "\n",
        "# No. Grad is not enabled and thus backpropagating is not possible.\n",
        "\n",
        "#Q20. Can we do differentiation on computations on c3? Why?\n",
        "\n",
        "# Yes. Grad is enabled and backpropagating is possible.\n"
      ],
      "metadata": {
        "id": "wSmDXbuObJ_0"
      },
      "execution_count": null,
      "outputs": []
    },
    {
      "cell_type": "markdown",
      "metadata": {
        "id": "_zSspgZVqMtO"
      },
      "source": [
        "`torch.no_grad()` can also be used as a function or method dectorator:"
      ]
    },
    {
      "cell_type": "code",
      "metadata": {
        "id": "0YD1Vt0aqMtO",
        "colab": {
          "base_uri": "https://localhost:8080/"
        },
        "outputId": "d5d56a1b-42cc-4d0f-a4ca-072a7e9cf4f3"
      },
      "source": [
        "def add_tensors1(x, y):\n",
        "    return x + y\n",
        "\n",
        "@torch.no_grad()\n",
        "def add_tensors2(x, y):\n",
        "    return x + y\n",
        "\n",
        "\n",
        "a = torch.ones(2, 3, requires_grad=True) * 2\n",
        "b = torch.ones(2, 3, requires_grad=True) * 3\n",
        "\n",
        "c1 = add_tensors1(a, b)\n",
        "print(c1)\n",
        "\n",
        "c2 = add_tensors2(a, b)\n",
        "print(c2)"
      ],
      "execution_count": null,
      "outputs": [
        {
          "output_type": "stream",
          "name": "stdout",
          "text": [
            "tensor([[5., 5., 5.],\n",
            "        [5., 5., 5.]], grad_fn=<AddBackward0>)\n",
            "tensor([[5., 5., 5.],\n",
            "        [5., 5., 5.]])\n"
          ]
        }
      ]
    },
    {
      "cell_type": "markdown",
      "metadata": {
        "id": "yni7EgQlqMtO"
      },
      "source": [
        "There's a corresponding context manager, `torch.enable_grad()`, for turning autograd on when it isn't already. It may also be used as a decorator.\n",
        "\n",
        "Finally, you may have a tensor that requires gradient tracking, but you want a copy that does not. For this we have the `Tensor` object's `detach()` method - it creates a copy of the tensor that is *detached* from the computation history:"
      ]
    },
    {
      "cell_type": "code",
      "metadata": {
        "id": "xIcn3CdOqMtP",
        "colab": {
          "base_uri": "https://localhost:8080/"
        },
        "outputId": "73be214c-1529-4066-f950-42c48ce9b0c0"
      },
      "source": [
        "x = torch.rand(5, requires_grad=True)\n",
        "y = x.detach()\n",
        "\n",
        "print(x)\n",
        "print(y)"
      ],
      "execution_count": null,
      "outputs": [
        {
          "output_type": "stream",
          "name": "stdout",
          "text": [
            "tensor([0.3319, 0.9606, 0.3600, 0.0115, 0.3607], requires_grad=True)\n",
            "tensor([0.3319, 0.9606, 0.3600, 0.0115, 0.3607])\n"
          ]
        }
      ]
    },
    {
      "cell_type": "markdown",
      "metadata": {
        "id": "qHZ3uAX9qMtP"
      },
      "source": [
        "We did this above when we wanted to graph some of our tensors. This is because `matplotlib` expects a NumPy array as input, and the implicit conversion from a PyTorch tensor to a NumPy array is not enabled for tensors with requires_grad=True. Making a detached copy lets us move forward.\n"
      ]
    }
  ]
}
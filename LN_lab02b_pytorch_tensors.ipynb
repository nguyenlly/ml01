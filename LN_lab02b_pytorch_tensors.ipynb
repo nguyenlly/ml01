{
  "nbformat": 4,
  "nbformat_minor": 0,
  "metadata": {
    "colab": {
      "provenance": []
    },
    "kernelspec": {
      "name": "python3",
      "display_name": "Python 3"
    },
    "language_info": {
      "name": "python"
    }
  },
  "cells": [
    {
      "cell_type": "markdown",
      "metadata": {
        "id": "FEH-hBlqcKa1"
      },
      "source": [
        "# Lab 2b – Tensors"
      ]
    },
    {
      "cell_type": "code",
      "metadata": {
        "id": "uWjkXtKltY_K"
      },
      "source": [
        "import torch"
      ],
      "execution_count": null,
      "outputs": []
    },
    {
      "cell_type": "markdown",
      "metadata": {
        "id": "D3yBh-vOv3WH"
      },
      "source": [
        "## Create empty tensors\n",
        "- Uninitialised tensors"
      ]
    },
    {
      "cell_type": "code",
      "metadata": {
        "id": "ERfCA-Fntg2w",
        "colab": {
          "base_uri": "https://localhost:8080/"
        },
        "outputId": "ce4c42b2-b92f-4e5d-9b0a-6ea505f7bb91"
      },
      "source": [
        "# 1-D\n",
        "x = torch.empty(1)\n",
        "print(x)\n",
        "\n",
        "# 1-D with two elements\n",
        "x = torch.empty(2)\n",
        "print(f\"\\n1-D tensor\\n{x}\\n\")\n",
        "\n",
        "# 2-D\n",
        "x = torch.empty(2,3)\n",
        "print(f\"2-D tensor\\n{x}\\n\")\n",
        "\n",
        "# 3-D\n",
        "x = torch.empty(2,3,1)\n",
        "print(\"3-D tensor\\n\",x)\n"
      ],
      "execution_count": null,
      "outputs": [
        {
          "output_type": "stream",
          "name": "stdout",
          "text": [
            "tensor([-1.6401e-37])\n",
            "\n",
            "1-D tensor\n",
            "tensor([-1.6259e-37,  3.0791e-41])\n",
            "\n",
            "2-D tensor\n",
            "tensor([[-1.6401e-37,  3.0791e-41,  3.3631e-44],\n",
            "        [ 0.0000e+00,         nan,  1.9949e+00]])\n",
            "\n",
            "3-D tensor\n",
            " tensor([[[-1.6259e-37],\n",
            "         [ 3.0791e-41],\n",
            "         [ 3.3631e-44]],\n",
            "\n",
            "        [[ 0.0000e+00],\n",
            "         [        nan],\n",
            "         [ 1.9949e+00]]])\n"
          ]
        }
      ]
    },
    {
      "cell_type": "markdown",
      "metadata": {
        "id": "xO6cW7hlwAsO"
      },
      "source": [
        "## Initialise tensors to scalar, random values, zeros or ones"
      ]
    },
    {
      "cell_type": "code",
      "metadata": {
        "id": "3nyX0btVwD6J",
        "colab": {
          "base_uri": "https://localhost:8080/"
        },
        "outputId": "482f6726-56ee-47ff-e076-5fa9737b27c7"
      },
      "source": [
        "# 0-D tensor (just containing scalar value 3)\n",
        "x = torch.tensor(3)\n",
        "# print(x)\n",
        "print(f'Scalar: {x} has shape {x.shape} and {x.ndim} dimensions\\n')\n",
        "\n",
        "# Random values in the interval [0,1]\n",
        "x = torch.rand(2,3)\n",
        "print(f\"Random values:\\n{x}\")\n",
        "print(x.dtype)\n",
        "\n",
        "# Zeros\n",
        "x = torch.zeros(2,3)\n",
        "print(f\"\\nZeros:\\n{x}\")\n",
        "print(x.dtype)\n",
        "\n",
        "x = torch.zeros(2,3, dtype=torch.int)\n",
        "print(f\"\\nZeros:\\n{x}\\n\")\n",
        "\n",
        "# Ones\n",
        "x = torch.ones(2,3)\n",
        "print(f\"Ones:\\n{x}\")\n",
        "print(f\"Type: {x.dtype}\\n\")\n",
        "\n",
        "x = torch.ones(2,3, dtype=torch.double)\n",
        "print(f\"Ones:\\n{x}\")"
      ],
      "execution_count": null,
      "outputs": [
        {
          "output_type": "stream",
          "name": "stdout",
          "text": [
            "Scalar: 3 has shape torch.Size([]) and 0 dimensions\n",
            "\n",
            "Random values:\n",
            "tensor([[0.2667, 0.5231, 0.9295],\n",
            "        [0.4766, 0.0537, 0.3231]])\n",
            "torch.float32\n",
            "\n",
            "Zeros:\n",
            "tensor([[0., 0., 0.],\n",
            "        [0., 0., 0.]])\n",
            "torch.float32\n",
            "\n",
            "Zeros:\n",
            "tensor([[0, 0, 0],\n",
            "        [0, 0, 0]], dtype=torch.int32)\n",
            "\n",
            "Ones:\n",
            "tensor([[1., 1., 1.],\n",
            "        [1., 1., 1.]])\n",
            "Type: torch.float32\n",
            "\n",
            "Ones:\n",
            "tensor([[1., 1., 1.],\n",
            "        [1., 1., 1.]], dtype=torch.float64)\n"
          ]
        }
      ]
    },
    {
      "cell_type": "markdown",
      "metadata": {
        "id": "BEAEHoY1xAzC"
      },
      "source": [
        "## Construct tensor from data"
      ]
    },
    {
      "cell_type": "code",
      "metadata": {
        "id": "6Vd7iHsaxFh0",
        "colab": {
          "base_uri": "https://localhost:8080/"
        },
        "outputId": "745a8f8f-dc62-4363-ba11-39cd86df559c"
      },
      "source": [
        "# Change a list to a tensor\n",
        "x = torch.tensor([0.5, 2.7])\n",
        "print(x)"
      ],
      "execution_count": null,
      "outputs": [
        {
          "output_type": "stream",
          "name": "stdout",
          "text": [
            "tensor([0.5000, 2.7000])\n"
          ]
        }
      ]
    },
    {
      "cell_type": "markdown",
      "metadata": {
        "id": "SwIelnjsiTus"
      },
      "source": [
        "### Changing tensor data type\n"
      ]
    },
    {
      "cell_type": "code",
      "metadata": {
        "id": "JZxbB4-XiXCp",
        "colab": {
          "base_uri": "https://localhost:8080/"
        },
        "outputId": "9305f2f5-7796-499d-8cad-a88e4751f6f6"
      },
      "source": [
        "x = torch.rand(2,3) * 20\n",
        "print(x)\n",
        "\n",
        "# Change to integer\n",
        "y = x.to(torch.int32)\n",
        "print(y)"
      ],
      "execution_count": null,
      "outputs": [
        {
          "output_type": "stream",
          "name": "stdout",
          "text": [
            "tensor([[ 2.9985, 18.1457, 17.7802],\n",
            "        [18.5711, 13.8163, 14.4083]])\n",
            "tensor([[ 2, 18, 17],\n",
            "        [18, 13, 14]], dtype=torch.int32)\n"
          ]
        }
      ]
    },
    {
      "cell_type": "markdown",
      "metadata": {
        "id": "eWuSDswYm3wo"
      },
      "source": [
        "### Create a separate copy\n",
        "\n"
      ]
    },
    {
      "cell_type": "code",
      "metadata": {
        "id": "g76w-tQSm62P",
        "colab": {
          "base_uri": "https://localhost:8080/"
        },
        "outputId": "7feb6274-d509-4cac-d189-dbef51f786da"
      },
      "source": [
        "a = torch.ones(2, 2)\n",
        "b = a.clone()\n",
        "\n",
        "a[0][1] = 561          # a changes...\n",
        "print(b)               # ...but b is still all ones"
      ],
      "execution_count": null,
      "outputs": [
        {
          "output_type": "stream",
          "name": "stdout",
          "text": [
            "tensor([[1., 1.],\n",
            "        [1., 1.]])\n"
          ]
        }
      ]
    },
    {
      "cell_type": "markdown",
      "metadata": {
        "id": "gPoj6eMq0Mgg"
      },
      "source": [
        "## Basic tensor operations\n",
        "\n",
        "- addition, subtraction, multiplication, division"
      ]
    },
    {
      "cell_type": "code",
      "metadata": {
        "id": "hJ6zOX9k0Ouw",
        "colab": {
          "base_uri": "https://localhost:8080/"
        },
        "outputId": "e9217df6-1696-431e-e3c5-b5a84795c5d1"
      },
      "source": [
        "x = torch.rand(2,2)\n",
        "print(f\"x = \\n{x}\\n\")\n",
        "\n",
        "y = torch.rand(2,2)\n",
        "print(f\"y = \\n{y}\\n\")\n",
        "\n",
        "z = torch.add(x,y) # same as z = x + y\n",
        "print(\"x + y = \")\n",
        "print(z)\n",
        "\n",
        "z = torch.sub(x,y) # same as z = x - y\n",
        "print(\"x - y = \")\n",
        "print(z)\n",
        "\n",
        "z = torch.mul(x,y) # same as z = x * y\n",
        "print(\"x * y = \")\n",
        "print(z)\n",
        "\n",
        "z = torch.div(x,y) # same as z = x / y\n",
        "print(\"x / y = \")\n",
        "print(z)\n"
      ],
      "execution_count": null,
      "outputs": [
        {
          "output_type": "stream",
          "name": "stdout",
          "text": [
            "x = \n",
            "tensor([[0.7858, 0.5064],\n",
            "        [0.0930, 0.2930]])\n",
            "\n",
            "y = \n",
            "tensor([[0.3747, 0.1130],\n",
            "        [0.6210, 0.4242]])\n",
            "\n",
            "x + y = \n",
            "tensor([[1.1604, 0.6194],\n",
            "        [0.7139, 0.7172]])\n",
            "x - y = \n",
            "tensor([[ 0.4111,  0.3934],\n",
            "        [-0.5280, -0.1312]])\n",
            "x * y = \n",
            "tensor([[0.2944, 0.0572],\n",
            "        [0.0577, 0.1243]])\n",
            "x / y = \n",
            "tensor([[2.0973, 4.4814],\n",
            "        [0.1497, 0.6908]])\n"
          ]
        }
      ]
    },
    {
      "cell_type": "markdown",
      "metadata": {
        "id": "Yt2iZ5Wr4qTk"
      },
      "source": [
        "### Inplace operations\n",
        "\n",
        "- any function with a trailing underscore (e.g. ``add_``) will modify the value of the variable in question, in place"
      ]
    },
    {
      "cell_type": "code",
      "metadata": {
        "id": "1xvGeIBw4wM5",
        "colab": {
          "base_uri": "https://localhost:8080/"
        },
        "outputId": "8f6e0dad-6537-498e-dce6-d2bfe1e29d00"
      },
      "source": [
        "x = torch.rand(2,2)\n",
        "print(f\"x = \\n{x}\\n\")\n",
        "\n",
        "y = torch.rand(2,2)\n",
        "print(f\"y = \\n{y}\\n\")\n",
        "\n",
        "# Inplace operations\n",
        "y.add_(x) # modify y by adding x to it\n",
        "print(f\"y + x = {y}\")\n",
        "\n",
        "y.sub_(x) # modify y by subtracting x from it\n",
        "print(f\"y - x = {y}\")\n",
        "\n",
        "y.mul_(x) # modify y by multiplying x to it\n",
        "print(f\"y * x = {y}\")\n",
        "\n",
        "y.div_(x) # modify y by dividing it by x\n",
        "print(f\"y / x = {y}\")\n"
      ],
      "execution_count": null,
      "outputs": [
        {
          "output_type": "stream",
          "name": "stdout",
          "text": [
            "x = \n",
            "tensor([[0.4521, 0.2949],\n",
            "        [0.7771, 0.5354]])\n",
            "\n",
            "y = \n",
            "tensor([[0.0011, 0.9382],\n",
            "        [0.4458, 0.9125]])\n",
            "\n",
            "y + x = tensor([[0.4532, 1.2332],\n",
            "        [1.2229, 1.4479]])\n",
            "y - x = tensor([[0.0011, 0.9382],\n",
            "        [0.4458, 0.9125]])\n",
            "y * x = tensor([[0.0005, 0.2767],\n",
            "        [0.3464, 0.4886]])\n",
            "y / x = tensor([[0.0011, 0.9382],\n",
            "        [0.4458, 0.9125]])\n"
          ]
        }
      ]
    },
    {
      "cell_type": "markdown",
      "metadata": {
        "id": "51KxaSwqO5Xf"
      },
      "source": [
        "## Accessing tensors"
      ]
    },
    {
      "cell_type": "code",
      "metadata": {
        "id": "pIN1M0FxPB6m",
        "colab": {
          "base_uri": "https://localhost:8080/"
        },
        "outputId": "2dd3210f-60d6-49b5-a3aa-4a0a974961ed"
      },
      "source": [
        "# Slicing\n",
        "x = torch.rand(5,3)\n",
        "print(x)\n",
        "\n",
        "# Get all rows but only first column\n",
        "print(x[:, 0])\n",
        "\n",
        "# Get all columns but only the second row\n",
        "print(x[1, :])\n",
        "\n",
        "# Get a specific element\n",
        "print(x[2,2])\n",
        "\n",
        "# When the tensor returns only ONE element, use item() to get the actual value of that element\n",
        "print(x[1,1].item())\n",
        "\n",
        "y = torch.tensor([2.0])\n",
        "print(y.item())"
      ],
      "execution_count": null,
      "outputs": [
        {
          "output_type": "stream",
          "name": "stdout",
          "text": [
            "tensor([[0.7310, 0.3909, 0.3493],\n",
            "        [0.9103, 0.1685, 0.5225],\n",
            "        [0.4148, 0.5326, 0.7712],\n",
            "        [0.5663, 0.7637, 0.6158],\n",
            "        [0.6644, 0.2525, 0.1158]])\n",
            "tensor([0.7310, 0.9103, 0.4148, 0.5663, 0.6644])\n",
            "tensor([0.9103, 0.1685, 0.5225])\n",
            "tensor(0.7712)\n",
            "0.16850602626800537\n",
            "2.0\n"
          ]
        }
      ]
    },
    {
      "cell_type": "markdown",
      "metadata": {
        "id": "oRirOVqNYodz"
      },
      "source": [
        "## Tensor Shape & Dimensions\n",
        "- The number of dimensions a tensor has is called its rank and the length in each dimension describes its ``shape``.\n",
        "- To determine the length of each dimension, call ``.shape``\n",
        "- To determine the number of dimensions it has, call ``.ndim``\n"
      ]
    },
    {
      "cell_type": "code",
      "metadata": {
        "id": "OsWYSWvkY19a",
        "colab": {
          "base_uri": "https://localhost:8080/"
        },
        "outputId": "e48a3c7f-b2cd-41ce-b930-1d482dd1da1c"
      },
      "source": [
        "x = torch.rand(5,3)\n",
        "print(f'{x} \\nhas shape {x.shape} and {x.ndim} dimensions\\n')"
      ],
      "execution_count": null,
      "outputs": [
        {
          "output_type": "stream",
          "name": "stdout",
          "text": [
            "tensor([[0.8992, 0.5299, 0.7389],\n",
            "        [0.7867, 0.4671, 0.9290],\n",
            "        [0.1777, 0.9392, 0.8838],\n",
            "        [0.4486, 0.8492, 0.2445],\n",
            "        [0.3936, 0.7522, 0.0349]]) \n",
            "has shape torch.Size([5, 3]) and 2 dimensions\n",
            "\n"
          ]
        }
      ]
    },
    {
      "cell_type": "markdown",
      "metadata": {
        "id": "B2q-gFywUWUh"
      },
      "source": [
        "## More on Shapes\n",
        "\n",
        "- `[1,5,2,6]` has shape (4,) to indicate it has 4 elements and the missing element after the comma means it is a 1-D tensor or array (vector)\n",
        "- `[[1,5,2,6], [1,2,3,1]]` has shape (2,4) to indicate it has 2 elements (rows) and each of these have 4 elements (columns). This is a 2-D tensor or array (matrix or a list of vectors)\n",
        "- `[[[1,5,2,6], [1,2,3,1]], [[5,2,1,2], [6,4,3,2]], [[7,8,5,3], [2,2,9,6]]]` has shape (3, 2, 4) to indicate it has 3 elements in the first dimension, and each of these contain 2 elements and each of these contain 4 elements. This is a 3-D tensor or array\n"
      ]
    },
    {
      "cell_type": "markdown",
      "metadata": {
        "id": "pw4hm1KndIrY"
      },
      "source": [
        "## Operations on tensor dimensions\n",
        "- A tensor dimension is akin to an array's axis. The number of dimensions is called rank.\n",
        "- A scalar has rank 0, a vector has rank 1, a matrix has rank 2, a cuboid has rank 3, etc.\n",
        "- Sometimes one wants to do an operation only on a particular dimension, e.g. on the rows only\n",
        "- Across ``dim=X`` means we do the operation w.r.t to the dimension given and the rest of the dimensions of the tensor stays as they are\n",
        "- in 2-D tensors, ``dim=0`` refers to the columns while ``dim=1`` refers to the rows\n"
      ]
    },
    {
      "cell_type": "code",
      "metadata": {
        "id": "zPATRKKYFWqm",
        "colab": {
          "base_uri": "https://localhost:8080/"
        },
        "outputId": "255666c3-7481-43fa-8ae1-2feacd6f13e4"
      },
      "source": [
        "x = torch.tensor([[1,2,3],\n",
        "                 [4,5,6]])\n",
        "\n",
        "print(x.shape)\n",
        "print(f'Summing across dim=0 (columns) gives: {torch.sum(x,dim=0)}')\n",
        "\n",
        "print(f'Summing across dim=1 (rows) gives: {torch.sum(x,dim=1)}')\n"
      ],
      "execution_count": null,
      "outputs": [
        {
          "output_type": "stream",
          "name": "stdout",
          "text": [
            "torch.Size([2, 3])\n",
            "Summing across dim=0 (columns) gives: tensor([5, 7, 9])\n",
            "Summing across dim=1 (rows) gives: tensor([ 6, 15])\n"
          ]
        }
      ]
    },
    {
      "cell_type": "markdown",
      "metadata": {
        "id": "JVqsBwKrTYiC"
      },
      "source": [
        "## Reshaping tensors\n",
        "- There are several ways to do this but using ``torch.reshape()`` is the most common\n",
        "- Also look up ``torch.squeeze(), torch.unsqueeze()`` and ``torch.view()``\n"
      ]
    },
    {
      "cell_type": "code",
      "metadata": {
        "id": "hxJhXnj9Tbu7",
        "colab": {
          "base_uri": "https://localhost:8080/"
        },
        "outputId": "552d6882-b727-46cf-a818-b35ddcf70ef6"
      },
      "source": [
        "x = torch.rand(4,4)\n",
        "print(\"Original:\")\n",
        "print(x)\n",
        "print(x.shape)\n",
        "\n",
        "# Reshape (flatten) to 1-D\n",
        "y = x.reshape(16) # number of elements must be the same as original, error otherwise\n",
        "print(\"Reshaped to 1-D:\")\n",
        "print(y)\n",
        "\n",
        "# Reshape to 2-D\n",
        "y = x.reshape(8,2)\n",
        "print(\"Reshaped to 2-D:\")\n",
        "print(y)\n",
        "\n",
        "# Could leave out one of the dimensions by specifying -1\n",
        "y = x.reshape(2, -1)\n",
        "print(\"Reshaped to 2 x Unspecified 2-D:\")\n",
        "print(y)\n",
        "print(y.shape)\n",
        "\n",
        "# Could use unsqueeze(0) to add a dimension at position 0\n",
        "y = x.unsqueeze(0)\n",
        "print(f'Using unsqueeze(0) to add dimension from original shape {x.shape} to {y.shape}')"
      ],
      "execution_count": null,
      "outputs": [
        {
          "output_type": "stream",
          "name": "stdout",
          "text": [
            "Original:\n",
            "tensor([[0.7476, 0.0700, 0.9289, 0.3911],\n",
            "        [0.7733, 0.1971, 0.6914, 0.7476],\n",
            "        [0.7555, 0.3965, 0.4715, 0.0777],\n",
            "        [0.0822, 0.4773, 0.8348, 0.1061]])\n",
            "torch.Size([4, 4])\n",
            "Reshaped to 1-D:\n",
            "tensor([0.7476, 0.0700, 0.9289, 0.3911, 0.7733, 0.1971, 0.6914, 0.7476, 0.7555,\n",
            "        0.3965, 0.4715, 0.0777, 0.0822, 0.4773, 0.8348, 0.1061])\n",
            "Reshaped to 2-D:\n",
            "tensor([[0.7476, 0.0700],\n",
            "        [0.9289, 0.3911],\n",
            "        [0.7733, 0.1971],\n",
            "        [0.6914, 0.7476],\n",
            "        [0.7555, 0.3965],\n",
            "        [0.4715, 0.0777],\n",
            "        [0.0822, 0.4773],\n",
            "        [0.8348, 0.1061]])\n",
            "Reshaped to 2 x Unspecified 2-D:\n",
            "tensor([[0.7476, 0.0700, 0.9289, 0.3911, 0.7733, 0.1971, 0.6914, 0.7476],\n",
            "        [0.7555, 0.3965, 0.4715, 0.0777, 0.0822, 0.4773, 0.8348, 0.1061]])\n",
            "torch.Size([2, 8])\n",
            "Using unsqueeze(0) to add dimension from original shape torch.Size([4, 4]) to torch.Size([1, 4, 4])\n"
          ]
        }
      ]
    },
    {
      "cell_type": "markdown",
      "metadata": {
        "id": "-I4TqJ0gWPmP"
      },
      "source": [
        "## Convert between NumPy and PyTorch tensors\n",
        "\n",
        "- Tensors can work on CPUs and GPUs\n",
        "- NumPy arrays can only work on CPUs"
      ]
    },
    {
      "cell_type": "code",
      "metadata": {
        "id": "w_8klvVsWZ7t",
        "colab": {
          "base_uri": "https://localhost:8080/"
        },
        "outputId": "b1c8e634-5070-4255-c84e-9840a2f05d6f"
      },
      "source": [
        "import torch\n",
        "import numpy as np\n",
        "\n",
        "# Tensor to NumPy\n",
        "a = torch.ones(5)\n",
        "print(a)\n",
        "\n",
        "b = a.numpy()\n",
        "print(b)\n",
        "print(type(b))\n",
        "\n",
        "# b changes when a is modified because they share the same memory space!\n",
        "a.add_(1)\n",
        "print(a)\n",
        "print(b)"
      ],
      "execution_count": null,
      "outputs": [
        {
          "output_type": "stream",
          "name": "stdout",
          "text": [
            "tensor([1., 1., 1., 1., 1.])\n",
            "[1. 1. 1. 1. 1.]\n",
            "<class 'numpy.ndarray'>\n",
            "tensor([2., 2., 2., 2., 2.])\n",
            "[2. 2. 2. 2. 2.]\n"
          ]
        }
      ]
    },
    {
      "cell_type": "code",
      "metadata": {
        "id": "w5WaMa1aXyfb",
        "colab": {
          "base_uri": "https://localhost:8080/"
        },
        "outputId": "399c5ead-562d-4350-a3e8-ac0e1d6d61d1"
      },
      "source": [
        "import torch\n",
        "import numpy as np\n",
        "\n",
        "a = np.ones(5)\n",
        "print(a)\n",
        "\n",
        "b = torch.from_numpy(a)\n",
        "print(b)\n",
        "\n",
        "# Modifying array will modify the tensor as well\n",
        "a += 2\n",
        "print(a)\n",
        "print(b)"
      ],
      "execution_count": null,
      "outputs": [
        {
          "output_type": "stream",
          "name": "stdout",
          "text": [
            "[1. 1. 1. 1. 1.]\n",
            "tensor([1., 1., 1., 1., 1.], dtype=torch.float64)\n",
            "[3. 3. 3. 3. 3.]\n",
            "tensor([3., 3., 3., 3., 3.], dtype=torch.float64)\n"
          ]
        }
      ]
    },
    {
      "cell_type": "markdown",
      "metadata": {
        "id": "UFesCS2x7aWa"
      },
      "source": [
        "# Exercise"
      ]
    },
    {
      "cell_type": "code",
      "metadata": {
        "id": "shmdcMiB7cKz",
        "colab": {
          "base_uri": "https://localhost:8080/"
        },
        "outputId": "5f7321cf-fe01-4ed2-b4f0-235efc80abfd"
      },
      "source": [
        "# 1. Create a tensor of 100 equally spaced numbers from 0 to 2.\n",
        "# Assign the tensor to x (Hint: use torch.linspace() )\n",
        "\n",
        "x = torch.linspace(0,2,100)\n",
        "\n",
        "# Print x\n",
        "\n",
        "print(f\"x = {x}\")\n"
      ],
      "execution_count": null,
      "outputs": [
        {
          "output_type": "stream",
          "name": "stdout",
          "text": [
            "x = tensor([0.0000, 0.0202, 0.0404, 0.0606, 0.0808, 0.1010, 0.1212, 0.1414, 0.1616,\n",
            "        0.1818, 0.2020, 0.2222, 0.2424, 0.2626, 0.2828, 0.3030, 0.3232, 0.3434,\n",
            "        0.3636, 0.3838, 0.4040, 0.4242, 0.4444, 0.4646, 0.4848, 0.5051, 0.5253,\n",
            "        0.5455, 0.5657, 0.5859, 0.6061, 0.6263, 0.6465, 0.6667, 0.6869, 0.7071,\n",
            "        0.7273, 0.7475, 0.7677, 0.7879, 0.8081, 0.8283, 0.8485, 0.8687, 0.8889,\n",
            "        0.9091, 0.9293, 0.9495, 0.9697, 0.9899, 1.0101, 1.0303, 1.0505, 1.0707,\n",
            "        1.0909, 1.1111, 1.1313, 1.1515, 1.1717, 1.1919, 1.2121, 1.2323, 1.2525,\n",
            "        1.2727, 1.2929, 1.3131, 1.3333, 1.3535, 1.3737, 1.3939, 1.4141, 1.4343,\n",
            "        1.4545, 1.4747, 1.4949, 1.5152, 1.5354, 1.5556, 1.5758, 1.5960, 1.6162,\n",
            "        1.6364, 1.6566, 1.6768, 1.6970, 1.7172, 1.7374, 1.7576, 1.7778, 1.7980,\n",
            "        1.8182, 1.8384, 1.8586, 1.8788, 1.8990, 1.9192, 1.9394, 1.9596, 1.9798,\n",
            "        2.0000])\n"
          ]
        }
      ]
    },
    {
      "cell_type": "code",
      "metadata": {
        "id": "oUVp1YHh7wDX",
        "colab": {
          "base_uri": "https://localhost:8080/"
        },
        "outputId": "1240bc56-e545-4e0f-95bf-f44e7f4e4a1d"
      },
      "source": [
        "# 3. Print the first 5 numbers in x.\n",
        "print(f\"First 5 numbers in x: \\n{x[0:4]}\\n\")\n",
        "\n",
        "# 4. Print the last 5 numbers in x\n",
        "print(f\"Last 5 numbers in x: \\n{x[95:100]}\")"
      ],
      "execution_count": null,
      "outputs": [
        {
          "output_type": "stream",
          "name": "stdout",
          "text": [
            "First 5 numbers in x: \n",
            "tensor([0.0000, 0.0202, 0.0404, 0.0606])\n",
            "\n",
            "Last 5 numbers in x: \n",
            "tensor([1.9192, 1.9394, 1.9596, 1.9798, 2.0000])\n"
          ]
        }
      ]
    },
    {
      "cell_type": "code",
      "metadata": {
        "id": "8tCONVqtAmvL",
        "colab": {
          "base_uri": "https://localhost:8080/"
        },
        "outputId": "50f50f5c-4b7a-4424-814d-d7b97886d9c5"
      },
      "source": [
        "# 5. Create another tensor of 100 random values between 0 and 1.\n",
        "# Assign the tensor to y (Hint: use torch.rand() )\n",
        "y = torch.rand(1,100)\n",
        "\n",
        "# y = torch.rand(10,10)\n",
        "# need to reshape x as a 10 * 10 to calc z\n",
        "# x = x.reshape(10,10)\n",
        "\n",
        "# Print y\n",
        "print(f\"y = {y}\")"
      ],
      "execution_count": null,
      "outputs": [
        {
          "output_type": "stream",
          "name": "stdout",
          "text": [
            "y = tensor([[0.6187, 0.7787, 0.1163, 0.3768, 0.0322, 0.0910, 0.2454, 0.9379, 0.3906,\n",
            "         0.2919, 0.4019, 0.1066, 0.1179, 0.9111, 0.3442, 0.5851, 0.6848, 0.8238,\n",
            "         0.4880, 0.9914, 0.3723, 0.9521, 0.7832, 0.4186, 0.5874, 0.4758, 0.0329,\n",
            "         0.2289, 0.3470, 0.4453, 0.5716, 0.9835, 0.9931, 0.5627, 0.1921, 0.9413,\n",
            "         0.9553, 0.9310, 0.2563, 0.3182, 0.7996, 0.6896, 0.7640, 0.8196, 0.4438,\n",
            "         0.9120, 0.0032, 0.2680, 0.7992, 0.4466, 0.5117, 0.6615, 0.8342, 0.1997,\n",
            "         0.0992, 0.9067, 0.7851, 0.1470, 0.1613, 0.2392, 0.5321, 0.2475, 0.4714,\n",
            "         0.1302, 0.0013, 0.0509, 0.6915, 0.2199, 0.8074, 0.1740, 0.6018, 0.9649,\n",
            "         0.0989, 0.8968, 0.7255, 0.1544, 0.5259, 0.0840, 0.2019, 0.7658, 0.3405,\n",
            "         0.3112, 0.1003, 0.6830, 0.4766, 0.4102, 0.6371, 0.4683, 0.9571, 0.1668,\n",
            "         0.2395, 0.5042, 0.6865, 0.4143, 0.3342, 0.2388, 0.8642, 0.8660, 0.6926,\n",
            "         0.6861]])\n"
          ]
        }
      ]
    },
    {
      "cell_type": "code",
      "metadata": {
        "id": "0nowe-YHB2in",
        "colab": {
          "base_uri": "https://localhost:8080/"
        },
        "outputId": "c33c2afc-8233-42ec-b0a5-508148684379"
      },
      "source": [
        "# 6. Multiply x and y, store the result in z\n",
        "z = torch.mul(x,y)\n",
        "\n",
        "# Print z\n",
        "print(f\"x * y = \\n{z}\")"
      ],
      "execution_count": null,
      "outputs": [
        {
          "output_type": "stream",
          "name": "stdout",
          "text": [
            "x * y = \n",
            "tensor([[0.0000, 0.0157, 0.0047, 0.0228, 0.0026, 0.0092, 0.0297, 0.1326, 0.0631,\n",
            "         0.0531, 0.0812, 0.0237, 0.0286, 0.2393, 0.0973, 0.1773, 0.2214, 0.2829,\n",
            "         0.1774, 0.3805, 0.1504, 0.4039, 0.3481, 0.1945, 0.2848, 0.2403, 0.0173,\n",
            "         0.1248, 0.1963, 0.2609, 0.3464, 0.6159, 0.6420, 0.3751, 0.1319, 0.6656,\n",
            "         0.6947, 0.6959, 0.1967, 0.2507, 0.6461, 0.5712, 0.6483, 0.7120, 0.3945,\n",
            "         0.8291, 0.0030, 0.2544, 0.7750, 0.4421, 0.5169, 0.6815, 0.8764, 0.2138,\n",
            "         0.1082, 1.0075, 0.8882, 0.1692, 0.1890, 0.2851, 0.6449, 0.3050, 0.5905,\n",
            "         0.1657, 0.0017, 0.0668, 0.9220, 0.2976, 1.1091, 0.2425, 0.8510, 1.3840,\n",
            "         0.1439, 1.3226, 1.0845, 0.2339, 0.8074, 0.1306, 0.3181, 1.2221, 0.5504,\n",
            "         0.5093, 0.1662, 1.1452, 0.8088, 0.7044, 1.1069, 0.8231, 1.7016, 0.3000,\n",
            "         0.4354, 0.9269, 1.2759, 0.7784, 0.6346, 0.4582, 1.6759, 1.6971, 1.3711,\n",
            "         1.3723]])\n"
          ]
        }
      ]
    },
    {
      "cell_type": "code",
      "metadata": {
        "id": "E3lmTYJgCJur",
        "colab": {
          "base_uri": "https://localhost:8080/"
        },
        "outputId": "850132e8-e10d-4587-d251-771f461d9dfb"
      },
      "source": [
        "# 7. Reshape z to a tensor with 5 rows and 20 columns\n",
        "# Store reshaped tensor to z2\n",
        "z2 = z.reshape(5,20)\n",
        "\n",
        "# Print z2\n",
        "print(f\"Reshaped as a 2D tensor with {z2.shape}: \\n{z2}\")"
      ],
      "execution_count": null,
      "outputs": [
        {
          "output_type": "stream",
          "name": "stdout",
          "text": [
            "Reshaped as a 2D tensor with torch.Size([5, 20]): \n",
            "tensor([[0.0000, 0.0157, 0.0047, 0.0228, 0.0026, 0.0092, 0.0297, 0.1326, 0.0631,\n",
            "         0.0531, 0.0812, 0.0237, 0.0286, 0.2393, 0.0973, 0.1773, 0.2214, 0.2829,\n",
            "         0.1774, 0.3805],\n",
            "        [0.1504, 0.4039, 0.3481, 0.1945, 0.2848, 0.2403, 0.0173, 0.1248, 0.1963,\n",
            "         0.2609, 0.3464, 0.6159, 0.6420, 0.3751, 0.1319, 0.6656, 0.6947, 0.6959,\n",
            "         0.1967, 0.2507],\n",
            "        [0.6461, 0.5712, 0.6483, 0.7120, 0.3945, 0.8291, 0.0030, 0.2544, 0.7750,\n",
            "         0.4421, 0.5169, 0.6815, 0.8764, 0.2138, 0.1082, 1.0075, 0.8882, 0.1692,\n",
            "         0.1890, 0.2851],\n",
            "        [0.6449, 0.3050, 0.5905, 0.1657, 0.0017, 0.0668, 0.9220, 0.2976, 1.1091,\n",
            "         0.2425, 0.8510, 1.3840, 0.1439, 1.3226, 1.0845, 0.2339, 0.8074, 0.1306,\n",
            "         0.3181, 1.2221],\n",
            "        [0.5504, 0.5093, 0.1662, 1.1452, 0.8088, 0.7044, 1.1069, 0.8231, 1.7016,\n",
            "         0.3000, 0.4354, 0.9269, 1.2759, 0.7784, 0.6346, 0.4582, 1.6759, 1.6971,\n",
            "         1.3711, 1.3723]])\n"
          ]
        }
      ]
    },
    {
      "cell_type": "code",
      "metadata": {
        "id": "eVWgsb3VPBoS",
        "colab": {
          "base_uri": "https://localhost:8080/"
        },
        "outputId": "7ed6d811-8591-4d20-cdd5-eff9b41a4b71"
      },
      "source": [
        "# 8. Get the sum of each row in z2\n",
        "# check: should only get 5 numbers since there are 5 rows\n",
        "print(f\"Sum of each row in z2: \\n{torch.sum(z2, dim = 1)}\\n\")\n",
        "\n",
        "# 9. Get the mean of each column in z2\n",
        "# check: should get 20 numbers since there are 20 columns\n",
        "print(f\"Mean of each column in z2: \\n{torch.mean(z2, dim = 0)}\")"
      ],
      "execution_count": null,
      "outputs": [
        {
          "output_type": "stream",
          "name": "stdout",
          "text": [
            "Sum of each row in z2: \n",
            "tensor([ 2.0433,  6.8363, 10.2114, 11.8440, 18.4417])\n",
            "\n",
            "Mean of each column in z2: \n",
            "tensor([0.3984, 0.3610, 0.3515, 0.4480, 0.2985, 0.3700, 0.4158, 0.3265, 0.7690,\n",
            "        0.2597, 0.4462, 0.7264, 0.5933, 0.5859, 0.4113, 0.5085, 0.8575, 0.5951,\n",
            "        0.4505, 0.7021])\n"
          ]
        }
      ]
    },
    {
      "cell_type": "code",
      "metadata": {
        "id": "444o5Ge0DSCp",
        "colab": {
          "base_uri": "https://localhost:8080/"
        },
        "outputId": "ac2eb3b5-a907-4239-a7d3-b2146f8c3147"
      },
      "source": [
        "# 10. Reshape z to a 3D tensor (keep all the elements)\n",
        "# Store reshaped tensor to z3\n",
        "z3 = z.reshape(5,2,10)\n",
        "\n",
        "# Print z3\n",
        "print(f\"Reshaped as a 3D tensor: \\n{z3}\")\n",
        "\n",
        "# z3 = z.reshape(5, 5, -1)\n",
        "# print(z3)"
      ],
      "execution_count": null,
      "outputs": [
        {
          "output_type": "stream",
          "name": "stdout",
          "text": [
            "Reshaped as a 3D tensor: \n",
            "tensor([[[0.0000, 0.0157, 0.0047, 0.0228, 0.0026, 0.0092, 0.0297, 0.1326,\n",
            "          0.0631, 0.0531],\n",
            "         [0.0812, 0.0237, 0.0286, 0.2393, 0.0973, 0.1773, 0.2214, 0.2829,\n",
            "          0.1774, 0.3805]],\n",
            "\n",
            "        [[0.1504, 0.4039, 0.3481, 0.1945, 0.2848, 0.2403, 0.0173, 0.1248,\n",
            "          0.1963, 0.2609],\n",
            "         [0.3464, 0.6159, 0.6420, 0.3751, 0.1319, 0.6656, 0.6947, 0.6959,\n",
            "          0.1967, 0.2507]],\n",
            "\n",
            "        [[0.6461, 0.5712, 0.6483, 0.7120, 0.3945, 0.8291, 0.0030, 0.2544,\n",
            "          0.7750, 0.4421],\n",
            "         [0.5169, 0.6815, 0.8764, 0.2138, 0.1082, 1.0075, 0.8882, 0.1692,\n",
            "          0.1890, 0.2851]],\n",
            "\n",
            "        [[0.6449, 0.3050, 0.5905, 0.1657, 0.0017, 0.0668, 0.9220, 0.2976,\n",
            "          1.1091, 0.2425],\n",
            "         [0.8510, 1.3840, 0.1439, 1.3226, 1.0845, 0.2339, 0.8074, 0.1306,\n",
            "          0.3181, 1.2221]],\n",
            "\n",
            "        [[0.5504, 0.5093, 0.1662, 1.1452, 0.8088, 0.7044, 1.1069, 0.8231,\n",
            "          1.7016, 0.3000],\n",
            "         [0.4354, 0.9269, 1.2759, 0.7784, 0.6346, 0.4582, 1.6759, 1.6971,\n",
            "          1.3711, 1.3723]]])\n"
          ]
        }
      ]
    }
  ]
}
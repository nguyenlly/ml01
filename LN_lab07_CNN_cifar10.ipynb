{
  "nbformat": 4,
  "nbformat_minor": 0,
  "metadata": {
    "colab": {
      "provenance": []
    },
    "kernelspec": {
      "name": "python3",
      "display_name": "Python 3"
    },
    "language_info": {
      "name": "python"
    },
    "accelerator": "GPU"
  },
  "cells": [
    {
      "cell_type": "markdown",
      "metadata": {
        "id": "D3dotnhNCKsl"
      },
      "source": [
        "## Lab 7 (Image Processing using Convolutional Neural Networks)\n",
        "- CIFAR10 dataset (see https://www.cs.toronto.edu/~kriz/cifar.html for more info)\n",
        "- 60K images: 50K train, 10K test\n",
        "- 10 classes: 'plane', 'car', 'bird', 'cat', 'deer', 'dog', 'frog', 'horse', 'ship', 'truck'\n",
        "- Perform multi-class classification with evaluation accuracy on EACH class\n",
        "\n",
        "**CONNECT TO GPU** before continuing, but just CPU is also fine, it might be a bit slow.\n"
      ]
    },
    {
      "cell_type": "code",
      "metadata": {
        "id": "nQ8bPH1OCM5h",
        "colab": {
          "base_uri": "https://localhost:8080/"
        },
        "outputId": "6502b4fb-ab18-44c3-9558-ddebd3ed159b"
      },
      "source": [
        "import torch\n",
        "import torch.nn as nn\n",
        "import torch.nn.functional as F\n",
        "import torchvision\n",
        "import torchvision.transforms as transforms\n",
        "import matplotlib.pyplot as plt\n",
        "import numpy as np\n",
        "\n",
        "# Device configuration\n",
        "device = torch.device('cuda' if torch.cuda.is_available() else 'cpu')\n",
        "print(device)\n",
        "\n",
        "# Hyper parameters\n",
        "num_epochs = 4\n",
        "batch_size = 4\n",
        "learning_rate = 0.001\n",
        "\n",
        "# Download and prepare dataset\n",
        "# Transform them to tensors and normalise them\n",
        "transform = transforms.Compose(\n",
        "    [transforms.ToTensor(),\n",
        "     transforms.Normalize((0.5, 0.5, 0.5), (0.5, 0.5, 0.5))\n",
        "     ])\n",
        "\n",
        "# 2.2 Download data\n",
        "train_set = torchvision.datasets.CIFAR10(\"./\", train=True, download=True, transform=transform)\n",
        "test_set = torchvision.datasets.CIFAR10(\"./\", train=False, download=True, transform=transform)\n",
        "\n",
        "# 2.3 Use DataLoader to get batches and shuffle\n",
        "train_loader = torch.utils.data.DataLoader(train_set, batch_size=batch_size, shuffle=True)\n",
        "test_loader = torch.utils.data.DataLoader(test_set, batch_size=batch_size, shuffle=False)\n",
        "\n",
        "classes = ('plane', 'car', 'bird', 'cat', 'deer', 'dog', 'frog', 'horse', 'ship', 'truck')\n",
        "\n",
        "# Q1. Why are there 3 values in each list of the Normalize() function? What does each value and each list represent?\n",
        "\n",
        "# The Normalize() function normalize a tensor image with a mean and standard\n",
        "# deviation for n channels, meaning this normalize each channel of the input.\n",
        "# So the value in the first list is the mean and the values in the\n",
        "# second list is the standard deviation. Each list have three values due to the\n",
        "# dimensions of the image.\n",
        "\n",
        "\n",
        "# There are three since there are three channels.\n",
        "# The first tuple gives the mean value of color channel in the image data.\n",
        "# The second tuple gives the standard deviation of each color channel in the image.\n",
        "# Each image pixel value in a particular channel will subtrac tthe provided mean\n",
        "# and the std to get a normalized value."
      ],
      "execution_count": null,
      "outputs": [
        {
          "output_type": "stream",
          "name": "stdout",
          "text": [
            "cuda\n",
            "Files already downloaded and verified\n",
            "Files already downloaded and verified\n"
          ]
        }
      ]
    },
    {
      "cell_type": "markdown",
      "metadata": {
        "id": "DuhDiijV7CNT"
      },
      "source": [
        "### Inspect the Images"
      ]
    },
    {
      "cell_type": "code",
      "metadata": {
        "id": "032BETSy6a2K",
        "colab": {
          "base_uri": "https://localhost:8080/"
        },
        "outputId": "7ed6cdf0-f978-4325-870d-343916c5df3f"
      },
      "source": [
        "# Access the first data sample in the train_set using next(iter())\n",
        "batch = next(iter(train_loader))\n",
        "print(f'Image values: \\n{batch}')\n",
        "print(f'Length: {len(batch)}')\n",
        "print(f'Type: {type(batch)}')\n",
        "\n",
        "# This means the data contains image-label pairs\n",
        "# Unpack them\n",
        "images, labels = batch\n",
        "# Same as these two lines:\n",
        "# image = batch[0]\n",
        "# label = batch[1]\n",
        "\n",
        "\n",
        "print(images.shape)\n",
        "print(labels)\n",
        "\n",
        "# Q2. What is the range of the values for the normalised image pixels?\n",
        "\n",
        "# Then range is from -1 to 1.\n",
        "\n",
        "# Q3. What does each index value of the shape of the image represent?\n",
        "\n",
        "# Batch size, Channel, and Dimensions (height and width) of image\n",
        "\n",
        "# Q4. What do the label values represent?\n",
        "\n",
        "# The label values represent the classes of the image.\n"
      ],
      "execution_count": null,
      "outputs": [
        {
          "output_type": "stream",
          "name": "stdout",
          "text": [
            "Image values: \n",
            "[tensor([[[[-0.1922, -0.1059, -0.8039,  ..., -0.2706, -0.2392, -0.4039],\n",
            "          [-0.2941, -0.1216, -0.2941,  ..., -0.2000, -0.2549, -0.3098],\n",
            "          [-0.0039, -0.1373, -0.0118,  ..., -0.2863, -0.4118, -0.2784],\n",
            "          ...,\n",
            "          [-0.0745,  0.2157,  0.3882,  ...,  0.1059,  0.1216,  0.0824],\n",
            "          [-0.1294,  0.3176,  0.5137,  ...,  0.1137,  0.2549,  0.0745],\n",
            "          [-0.1608,  0.3176,  0.5059,  ...,  0.0667,  0.4039,  0.1686]],\n",
            "\n",
            "         [[-0.1373, -0.0588, -0.7569,  ..., -0.1843, -0.1686, -0.3490],\n",
            "          [-0.2314, -0.0588, -0.2235,  ..., -0.1294, -0.1843, -0.2549],\n",
            "          [ 0.0588, -0.0667,  0.0588,  ..., -0.2157, -0.3412, -0.2157],\n",
            "          ...,\n",
            "          [ 0.0039,  0.3098,  0.4588,  ...,  0.1294,  0.1373,  0.1137],\n",
            "          [-0.0667,  0.3961,  0.5686,  ...,  0.1529,  0.2941,  0.1059],\n",
            "          [-0.1216,  0.3725,  0.5529,  ...,  0.1373,  0.4667,  0.2157]],\n",
            "\n",
            "         [[-0.1608, -0.0745, -0.7569,  ..., -0.2157, -0.1922, -0.3725],\n",
            "          [-0.2627, -0.0667, -0.2314,  ..., -0.1529, -0.2078, -0.2784],\n",
            "          [ 0.0196, -0.0902,  0.0510,  ..., -0.2471, -0.3647, -0.2314],\n",
            "          ...,\n",
            "          [-0.0118,  0.2941,  0.4039,  ...,  0.0745,  0.0667,  0.0510],\n",
            "          [-0.0980,  0.3647,  0.5216,  ...,  0.0980,  0.2157,  0.0353],\n",
            "          [-0.1765,  0.3255,  0.5137,  ...,  0.1059,  0.4039,  0.1529]]],\n",
            "\n",
            "\n",
            "        [[[ 0.5922,  0.5922,  0.6078,  ...,  0.1686,  0.2627,  0.5922],\n",
            "          [ 0.6314,  0.6314,  0.6392,  ...,  0.2392,  0.2235,  0.5529],\n",
            "          [ 0.6392,  0.6392,  0.6392,  ...,  0.2863,  0.0353,  0.2471],\n",
            "          ...,\n",
            "          [ 0.1843, -0.1373, -0.4353,  ..., -0.2000, -0.3176, -0.3961],\n",
            "          [ 0.3176,  0.3176, -0.2000,  ..., -0.4588, -0.4431, -0.4353],\n",
            "          [-0.1765,  0.0824, -0.1216,  ..., -0.4039, -0.3725, -0.3412]],\n",
            "\n",
            "         [[ 0.7569,  0.7569,  0.7725,  ...,  0.1922,  0.2941,  0.6235],\n",
            "          [ 0.7882,  0.7882,  0.7961,  ...,  0.2627,  0.2549,  0.5843],\n",
            "          [ 0.7804,  0.7804,  0.7804,  ...,  0.3020,  0.0510,  0.2627],\n",
            "          ...,\n",
            "          [ 0.1608, -0.1529, -0.4510,  ..., -0.2078, -0.3255, -0.4039],\n",
            "          [ 0.2941,  0.3020, -0.2157,  ..., -0.4667, -0.4510, -0.4353],\n",
            "          [-0.2000,  0.0667, -0.1373,  ..., -0.4039, -0.3804, -0.3412]],\n",
            "\n",
            "         [[ 0.9843,  0.9686,  0.9686,  ...,  0.2784,  0.3804,  0.7176],\n",
            "          [ 1.0000,  0.9922,  0.9843,  ...,  0.3412,  0.3255,  0.6627],\n",
            "          [ 0.9922,  0.9765,  0.9608,  ...,  0.3647,  0.1216,  0.3255],\n",
            "          ...,\n",
            "          [ 0.2157, -0.1137, -0.4353,  ..., -0.1608, -0.2784, -0.3569],\n",
            "          [ 0.3490,  0.3412, -0.1922,  ..., -0.4275, -0.4039, -0.4039],\n",
            "          [-0.1451,  0.1059, -0.1216,  ..., -0.3804, -0.3490, -0.3255]]],\n",
            "\n",
            "\n",
            "        [[[ 0.5686,  0.9529,  0.9608,  ...,  0.9451,  0.9451,  0.9216],\n",
            "          [-0.0745,  0.8510,  0.9529,  ...,  0.9373,  0.9451,  0.9608],\n",
            "          [-0.0039,  0.8902,  0.9608,  ...,  0.9686,  0.9765,  0.9843],\n",
            "          ...,\n",
            "          [-0.1216, -0.1529, -0.1608,  ..., -0.0745, -0.0667, -0.1059],\n",
            "          [-0.2941, -0.3020, -0.2941,  ..., -0.0667, -0.0510, -0.0824],\n",
            "          [-0.2784, -0.2941, -0.2627,  ..., -0.0039, -0.0431, -0.0431]],\n",
            "\n",
            "         [[ 0.5294,  0.9373,  0.9529,  ...,  0.9451,  0.9451,  0.9216],\n",
            "          [-0.1137,  0.8275,  0.9373,  ...,  0.9373,  0.9451,  0.9608],\n",
            "          [-0.0431,  0.8588,  0.9373,  ...,  0.9686,  0.9765,  0.9843],\n",
            "          ...,\n",
            "          [-0.1922, -0.2235, -0.2314,  ..., -0.1765, -0.1686, -0.1922],\n",
            "          [-0.3569, -0.3647, -0.3569,  ..., -0.1686, -0.1451, -0.1686],\n",
            "          [-0.3412, -0.3569, -0.3255,  ..., -0.1059, -0.1451, -0.1373]],\n",
            "\n",
            "         [[ 0.5843,  0.9608,  0.9608,  ...,  0.9451,  0.9451,  0.9216],\n",
            "          [-0.0510,  0.8588,  0.9451,  ...,  0.9373,  0.9451,  0.9608],\n",
            "          [ 0.0118,  0.8824,  0.9451,  ...,  0.9686,  0.9765,  0.9843],\n",
            "          ...,\n",
            "          [-0.1843, -0.2157, -0.2235,  ..., -0.2235, -0.2000, -0.2000],\n",
            "          [-0.3647, -0.3804, -0.3647,  ..., -0.2314, -0.1922, -0.1765],\n",
            "          [-0.3569, -0.3725, -0.3412,  ..., -0.1765, -0.1843, -0.1373]]],\n",
            "\n",
            "\n",
            "        [[[-0.1059, -0.3490, -0.5451,  ..., -0.9608, -0.9373, -0.9059],\n",
            "          [-0.5765, -0.6314, -0.6471,  ..., -0.9608, -0.9608, -0.9686],\n",
            "          [-0.6235, -0.0980,  0.0902,  ..., -0.9608, -0.9608, -0.9608],\n",
            "          ...,\n",
            "          [-0.9059, -0.9137, -0.9137,  ..., -0.9608, -0.9451, -0.9294],\n",
            "          [-0.8980, -0.9059, -0.9216,  ..., -0.9216, -0.9216, -0.9216],\n",
            "          [-0.9373, -0.9373, -0.9529,  ..., -0.9294, -0.9137, -0.8980]],\n",
            "\n",
            "         [[-0.1294, -0.4039, -0.6235,  ..., -0.9608, -0.9373, -0.9059],\n",
            "          [-0.6549, -0.7255, -0.7490,  ..., -0.9608, -0.9608, -0.9686],\n",
            "          [-0.7176, -0.2157, -0.0353,  ..., -0.9608, -0.9608, -0.9608],\n",
            "          ...,\n",
            "          [-0.9059, -0.9137, -0.9137,  ..., -0.9608, -0.9451, -0.9294],\n",
            "          [-0.8980, -0.9059, -0.9137,  ..., -0.9216, -0.9216, -0.9216],\n",
            "          [-0.9373, -0.9373, -0.9451,  ..., -0.9294, -0.9137, -0.8980]],\n",
            "\n",
            "         [[-0.1059, -0.3961, -0.6314,  ..., -0.9451, -0.9216, -0.8902],\n",
            "          [-0.6627, -0.7569, -0.7882,  ..., -0.9451, -0.9451, -0.9529],\n",
            "          [-0.7490, -0.2627, -0.0902,  ..., -0.9451, -0.9451, -0.9451],\n",
            "          ...,\n",
            "          [-0.9059, -0.9137, -0.9137,  ..., -0.9608, -0.9451, -0.9294],\n",
            "          [-0.8902, -0.8980, -0.9059,  ..., -0.9216, -0.9216, -0.9216],\n",
            "          [-0.9216, -0.9216, -0.9294,  ..., -0.9294, -0.9137, -0.8980]]]]), tensor([6, 9, 8, 3])]\n",
            "Length: 2\n",
            "Type: <class 'list'>\n",
            "torch.Size([4, 3, 32, 32])\n",
            "tensor([6, 9, 8, 3])\n"
          ]
        }
      ]
    },
    {
      "cell_type": "markdown",
      "metadata": {
        "id": "71_0Ci7gZkqV"
      },
      "source": [
        "### View some images\n",
        "- Note that images have been normalised and may not look very clear"
      ]
    },
    {
      "cell_type": "code",
      "metadata": {
        "id": "Zwz0kGvfuL6d",
        "colab": {
          "base_uri": "https://localhost:8080/",
          "height": 279
        },
        "outputId": "57426229-8115-4335-bd3c-7f60e9cfc200"
      },
      "source": [
        "# Create a grid\n",
        "plt.figure(figsize=(12,12))\n",
        "grid = torchvision.utils.make_grid(tensor=images, nrow=4) # nrow = number of images displayed in each row\n",
        "\n",
        "print(f\"class labels: {labels}\")\n",
        "\n",
        "# Use grid.permute() to transpose the grid so that the axes meet the specifications required by\n",
        "# plt.imshow(), which are [height, width, channels]. PyTorch dimensions are [channels, height, width].\n",
        "plt.imshow(grid.permute(1,2,0))"
      ],
      "execution_count": null,
      "outputs": [
        {
          "output_type": "stream",
          "name": "stderr",
          "text": [
            "Clipping input data to the valid range for imshow with RGB data ([0..1] for floats or [0..255] for integers).\n"
          ]
        },
        {
          "output_type": "stream",
          "name": "stdout",
          "text": [
            "class labels: tensor([6, 9, 8, 3])\n"
          ]
        },
        {
          "output_type": "execute_result",
          "data": {
            "text/plain": [
              "<matplotlib.image.AxesImage at 0x7f2659a3ef50>"
            ]
          },
          "metadata": {},
          "execution_count": 147
        },
        {
          "output_type": "display_data",
          "data": {
            "text/plain": [
              "<Figure size 864x864 with 1 Axes>"
            ],
            "image/png": "[encoded data removed]"
          },
          "metadata": {
            "needs_background": "light"
          }
        }
      ]
    },
    {
      "cell_type": "markdown",
      "metadata": {
        "id": "jVMti_g2J-W5"
      },
      "source": [
        "## CNN model"
      ]
    },
    {
      "cell_type": "code",
      "metadata": {
        "id": "tWePXqBQKAp7"
      },
      "source": [
        "class Test(nn.Module):\n",
        "  def __init__(self):\n",
        "    super().__init__()\n",
        "    self.conv1 = nn.Conv2d(3, 6, 5, padding = 1) # input 3 channel, apply 6 filters, with each filter being a 5x5\n",
        "    self.relu = nn.ReLU()\n",
        "    self.pool = nn.MaxPool2d(2, 2) # kernel size = 2, stride = 2\n",
        "    self.conv2 = nn.Conv2d(6, 16, 5) # input 6 channels from conv1,\n",
        "    # flatten 3D tensor to 1D tensor\n",
        "    self.fc1 = nn.Linear(16*5*5, 128) # Q8. Fill out the correct input dimensions\n",
        "    self.fc2 = nn.Linear(128, 64)\n",
        "    self.fc3 = nn.Linear(64, 10) # final output matches num_classes\n",
        "\n",
        "  def forward(self, x):\n",
        "    # Conv + ReLU + pool\n",
        "    print(f'Input shape: {x.shape}')\n",
        "    out = self.conv1(x)\n",
        "    print(f'After Conv1: {out.shape}')\n",
        "    print(f'Padding: {self.conv1.padding}')\n",
        "    out = self.pool(F.relu(out))\n",
        "    print(f'After Pool1: {out.shape}')\n",
        "    out = self.conv2(out)\n",
        "    print(f'After Conv2: {out.shape}')\n",
        "    out = self.pool(F.relu(out))\n",
        "    print(f'After Pool2: {out.shape}')\n",
        "    # Flatten it before fc1\n",
        "    out = out.reshape(-1, 16*5*5) # Q8. Fill out the correct dimension after -1\n",
        "    print(f'Before fc1: {out.shape}')\n",
        "    out = self.fc1(out)\n",
        "    out = self.relu(out)\n",
        "    print(f'After fc1: {out.shape}')\n",
        "    out = self.fc2(out)\n",
        "    out = self.relu(out)\n",
        "    print(f'After fc2: {out.shape}')\n",
        "    out = self.fc3(out) # NO softmax as it will be included in CrossEntropyLoss\n",
        "    print(f'After fc3: {out.shape}')\n",
        "    return out\n",
        "\n",
        "\n",
        "model = Test().to(device)\n",
        "# Let's view the softmax output\n",
        "probs = nn.Softmax(dim=1)\n",
        "\n",
        "\n",
        "# Q5. What do the three arguments of the first convolutional layer, conv1 represent (3,6,5)?\n",
        "\n",
        "# conv1 applies a 2D convulution over an input. So the numbers represents the\n",
        "# in_channels (number of channels in the input image), out_channels (number of\n",
        "# channels produced by the convolution), and the kernel_size (size of the\n",
        "# convolving kernel stride).\n",
        "\n",
        "# input = 3 channels, output = 6 meaning there is 6 filter map, filter size = 5x5\n",
        "\n",
        "# Q6. Explain the arguments of the second convolutional layer, conv2 (6, 16, 5)\n",
        "\n",
        "# The 6 represents the channels of the input from the first convolutional layer.\n",
        "# The 16 represents the number of channels produced by the convolution. The 5\n",
        "# presents the size of the convolving kernel stride.\n",
        "\n",
        "# Q7. Figure out the convolved image size after conv1\n",
        "# Convolved image size = ((input_width - filter_size + 2 * padding) / stride) + 1\n",
        "\n",
        "# convolved image size = ((32- 5 + 2*0)/1) +1 = 28\n",
        "\n",
        "# Q8. Figure out the input size to the first fcn layer and fill out the code above in init() and forward()\n"
      ],
      "execution_count": null,
      "outputs": []
    },
    {
      "cell_type": "markdown",
      "metadata": {
        "id": "EZk7fcriftFm"
      },
      "source": [
        "### Run through a sample batch"
      ]
    },
    {
      "cell_type": "code",
      "metadata": {
        "id": "JW7t-qz-FjGp",
        "colab": {
          "base_uri": "https://localhost:8080/"
        },
        "outputId": "1261a8bb-fa4f-4f78-85cc-a12471cee859"
      },
      "source": [
        "sample = next(iter(train_loader))\n",
        "\n",
        "images, labels = sample\n",
        "\n",
        "images = images.to(device)\n",
        "labels = labels.to(device)\n",
        "\n",
        "output = model(images)\n",
        "print(f'Output shape: {output.shape}')\n",
        "print(f'Softmax outputs:\\n {probs(output)}')\n",
        "\n",
        "\n",
        "# Q9. Explain the shape of the output after conv1\n",
        "\n",
        "# After conv1, the shape was [4, 6, 28, 28]. This tells us about the number of\n",
        "# channels and dimensions of the image.\n",
        "\n",
        "# Q10. What does the pooling do to the dimensions of the feature images here?\n",
        "\n",
        "# Pooling compresses the image. Width and height halved.\n",
        "\n",
        "# Q11. Add padding=1 to conv1 and rerun the last two code cells. How did padding affect the dimensions of the feature images?\n",
        "\n",
        "# The dimensions of the images are larger. After conv1 the dimensions are 30x30\n",
        "# and not 28x28. The dimensions of the images up until after conv2 is larger.\n",
        "\n",
        "\n",
        "# Q12. What is represented by each list returned by Softmax outputs?\n",
        "\n",
        "# The probability of the classes of images in the order of\n",
        "# 'plane', 'car', 'bird', 'cat', 'deer', 'dog', 'frog', 'horse', 'ship', 'truck'.\n"
      ],
      "execution_count": null,
      "outputs": [
        {
          "output_type": "stream",
          "name": "stdout",
          "text": [
            "Input shape: torch.Size([4, 3, 32, 32])\n",
            "After Conv1: torch.Size([4, 6, 30, 30])\n",
            "Padding: (1, 1)\n",
            "After Pool1: torch.Size([4, 6, 15, 15])\n",
            "After Conv2: torch.Size([4, 16, 11, 11])\n",
            "After Pool2: torch.Size([4, 16, 5, 5])\n",
            "Before fc1: torch.Size([4, 400])\n",
            "After fc1: torch.Size([4, 128])\n",
            "After fc2: torch.Size([4, 64])\n",
            "After fc3: torch.Size([4, 10])\n",
            "Output shape: torch.Size([4, 10])\n",
            "Softmax outputs:\n",
            " tensor([[0.0959, 0.1097, 0.1027, 0.0991, 0.1122, 0.0993, 0.0925, 0.0947, 0.0954,\n",
            "         0.0984],\n",
            "        [0.0962, 0.1096, 0.1025, 0.0991, 0.1124, 0.0987, 0.0934, 0.0951, 0.0947,\n",
            "         0.0982],\n",
            "        [0.0961, 0.1086, 0.1035, 0.0995, 0.1134, 0.0997, 0.0929, 0.0934, 0.0948,\n",
            "         0.0980],\n",
            "        [0.0969, 0.1107, 0.1028, 0.0984, 0.1124, 0.0987, 0.0927, 0.0950, 0.0945,\n",
            "         0.0980]], device='cuda:0', grad_fn=<SoftmaxBackward0>)\n"
          ]
        }
      ]
    },
    {
      "cell_type": "markdown",
      "metadata": {
        "id": "eQj3gsf7Y6Ql"
      },
      "source": [
        "\n",
        "### Let's Train!\n",
        "- Now that we know and understand how CNNs work, let's put everything together for CIFAR-10 dataset\n",
        "  - Download the data in batches and normalisation with shuffling\n",
        "  - Build a model with 2 CNN layers containing ReLU and pooling\n",
        "  - Passing the feature images to 3 fully connected layers (FCNs) also containing RELU activation\n",
        "  - The final layer has 10 units to reprsent the number of output classes\n",
        "  - Use Binary Cross Entropy Loss and SGD optimiser\n",
        "  - Evaluate the model on the test data on EACH class\n",
        "\n",
        "**IMPORTANT!** Fill out the missing code below before training"
      ]
    },
    {
      "cell_type": "code",
      "metadata": {
        "id": "-1_4tKL4X3WQ"
      },
      "source": [
        "class CNN(nn.Module):\n",
        "  def __init__(self):\n",
        "    super().__init__()\n",
        "    self.conv1 = nn.Conv2d(3, 6, 5)\n",
        "    self.relu = nn.ReLU()\n",
        "    self.pool = nn.MaxPool2d(2, 2)\n",
        "    self.conv2 = nn.Conv2d(6, 16, 5)\n",
        "    # flatten 3D tensor to 1D tensor\n",
        "    self.fc1 = nn.Linear(16*5*5, 128) # TODO\n",
        "    self.fc2 = nn.Linear(128, 64)\n",
        "    self.fc3 = nn.Linear(64, 10) # final output matches num_classes\n",
        "\n",
        "  def forward(self, x):\n",
        "    # Conv + ReLU + pool\n",
        "    out = self.pool(F.relu(self.conv1(x)))\n",
        "    out = self.pool(F.relu(self.conv2(out)))\n",
        "    # Flatten it before fc1\n",
        "    out = out.reshape(-1, 16*5*5) # TODO\n",
        "    out = F.relu(self.fc1(out))\n",
        "    out = F.relu(self.fc2(out))\n",
        "    out = self.fc3(out) # NO softmax as it will be included in CrossEntropyLoss\n",
        "    return out\n",
        "\n",
        "\n",
        "model = CNN().to(device)\n",
        "\n",
        "# Q13. Use the Cross Entropy Loss for this task (UNCOMMENT & COMPLETE CODE BELOW)\n",
        "criterion = nn.CrossEntropyLoss()\n",
        "\n",
        "# Q14. Use the Stochastic Gradient Descent (SGD) optimiser, this time ADD momentum=0.9 (UNCOMMENT & COMPLETE CODE BELOW)\n",
        "opt = torch.optim.SGD(model.parameters(), momentum = 0.9, lr = learning_rate)\n"
      ],
      "execution_count": null,
      "outputs": []
    },
    {
      "cell_type": "markdown",
      "metadata": {
        "id": "Zlg2FFaJKppP"
      },
      "source": [
        "## Training loop"
      ]
    },
    {
      "cell_type": "code",
      "metadata": {
        "id": "e15E85ZQKr1R",
        "colab": {
          "base_uri": "https://localhost:8080/"
        },
        "outputId": "f8c3f0d9-a405-4af7-9cdd-99176f300f07"
      },
      "source": [
        "n_total_steps = len(train_set)\n",
        "n_iterations = -(-n_total_steps // batch_size) # ceiling division\n",
        "\n",
        "for epoch in range(num_epochs):\n",
        "  for i, (images, labels) in enumerate(train_loader):\n",
        "    #print(images.shape) # [4,3,32,32] batch size, channels, img dim\n",
        "    images = images.to(device)\n",
        "    labels = labels.to(device)\n",
        "\n",
        "    # Forward pass\n",
        "    outputs = model(images)\n",
        "    loss = criterion(outputs, labels)\n",
        "\n",
        "    # Backward pass and Optimise\n",
        "    opt.zero_grad()\n",
        "    loss.backward()\n",
        "    opt.step()\n",
        "\n",
        "    # Print\n",
        "    if (i+1) % 1000 == 0:\n",
        "      print(f'Epoch {epoch+1}/{num_epochs}, Iteration {i+1}/{n_iterations}, Loss={loss.item():.4f} ')\n",
        "\n"
      ],
      "execution_count": null,
      "outputs": [
        {
          "output_type": "stream",
          "name": "stdout",
          "text": [
            "Epoch 1/5, Iteration 1000/6250, Loss=2.0976 \n",
            "Epoch 1/5, Iteration 2000/6250, Loss=1.6308 \n",
            "Epoch 1/5, Iteration 3000/6250, Loss=2.0121 \n",
            "Epoch 1/5, Iteration 4000/6250, Loss=1.8918 \n",
            "Epoch 1/5, Iteration 5000/6250, Loss=1.4266 \n",
            "Epoch 1/5, Iteration 6000/6250, Loss=1.5908 \n",
            "Epoch 2/5, Iteration 1000/6250, Loss=1.4374 \n",
            "Epoch 2/5, Iteration 2000/6250, Loss=1.7278 \n",
            "Epoch 2/5, Iteration 3000/6250, Loss=1.3714 \n",
            "Epoch 2/5, Iteration 4000/6250, Loss=0.8623 \n",
            "Epoch 2/5, Iteration 5000/6250, Loss=1.4013 \n",
            "Epoch 2/5, Iteration 6000/6250, Loss=1.7017 \n",
            "Epoch 3/5, Iteration 1000/6250, Loss=1.8152 \n",
            "Epoch 3/5, Iteration 2000/6250, Loss=0.9941 \n",
            "Epoch 3/5, Iteration 3000/6250, Loss=1.5724 \n",
            "Epoch 3/5, Iteration 4000/6250, Loss=1.4245 \n",
            "Epoch 3/5, Iteration 5000/6250, Loss=1.2327 \n",
            "Epoch 3/5, Iteration 6000/6250, Loss=1.3907 \n",
            "Epoch 4/5, Iteration 1000/6250, Loss=0.9945 \n",
            "Epoch 4/5, Iteration 2000/6250, Loss=0.9815 \n",
            "Epoch 4/5, Iteration 3000/6250, Loss=2.2211 \n",
            "Epoch 4/5, Iteration 4000/6250, Loss=1.2625 \n",
            "Epoch 4/5, Iteration 5000/6250, Loss=0.8875 \n",
            "Epoch 4/5, Iteration 6000/6250, Loss=0.9526 \n",
            "Epoch 5/5, Iteration 1000/6250, Loss=1.1738 \n",
            "Epoch 5/5, Iteration 2000/6250, Loss=1.5541 \n",
            "Epoch 5/5, Iteration 3000/6250, Loss=1.2645 \n",
            "Epoch 5/5, Iteration 4000/6250, Loss=0.5512 \n",
            "Epoch 5/5, Iteration 5000/6250, Loss=1.1425 \n",
            "Epoch 5/5, Iteration 6000/6250, Loss=1.0074 \n"
          ]
        }
      ]
    },
    {
      "cell_type": "markdown",
      "metadata": {
        "id": "HahXHRsSMo6H"
      },
      "source": [
        "## Evaluation"
      ]
    },
    {
      "cell_type": "code",
      "metadata": {
        "id": "iIuqYw8JMqy-",
        "colab": {
          "base_uri": "https://localhost:8080/"
        },
        "outputId": "adf3ec58-81c2-436b-cabe-8261c663b23d"
      },
      "source": [
        "# Deactivate the autograd engine to reduce memory usage and speed up computations (backprop disabled).\n",
        "with torch.no_grad():\n",
        "  n_correct = 0\n",
        "  n_samples = 0\n",
        "  n_class_correct = [0 for i in range(10)]\n",
        "  n_class_samples = [0 for i in range(10)]\n",
        "\n",
        "\n",
        "  # Loop through test set\n",
        "  for images, labels in test_loader:\n",
        "    # Put images on GPU\n",
        "    images = images.to(device)\n",
        "    labels = labels.to(device)\n",
        "    # Run on trained model\n",
        "    outputs = model(images)\n",
        "\n",
        "    # Get predictions\n",
        "    # torch.max() returns actual probability value (ignored) and index or class label (selected)\n",
        "    _, y_preds = torch.max(outputs, 1)\n",
        "    n_samples += labels.size(0) # different to FFNN\n",
        "    n_correct += (y_preds == labels).sum().item()\n",
        "\n",
        "    # Keep track of each class\n",
        "    for i in range(batch_size):\n",
        "      label = labels[i]\n",
        "      pred = y_preds[i]\n",
        "      if (label == pred):\n",
        "        n_class_correct[label] += 1\n",
        "      n_class_samples[label] += 1\n",
        "\n",
        "  # Print accuracy\n",
        "  acc = 100.0 * n_correct / n_samples\n",
        "  print(f'Test Accuracy of the WHOLE CNN = {acc} %')\n",
        "\n",
        "  for i in range(len(classes)):\n",
        "    acc = 100.0 * n_class_correct[i] / n_class_samples[i]\n",
        "    print(f'Accuracy of {classes[i]}: {acc} %')\n"
      ],
      "execution_count": null,
      "outputs": [
        {
          "output_type": "stream",
          "name": "stdout",
          "text": [
            "Test Accuracy of the WHOLE CNN = 58.26 %\n",
            "Accuracy of plane: 71.1 %\n",
            "Accuracy of car: 67.1 %\n",
            "Accuracy of bird: 44.4 %\n",
            "Accuracy of cat: 34.2 %\n",
            "Accuracy of deer: 35.2 %\n",
            "Accuracy of dog: 65.1 %\n",
            "Accuracy of frog: 84.4 %\n",
            "Accuracy of horse: 54.7 %\n",
            "Accuracy of ship: 48.9 %\n",
            "Accuracy of truck: 77.5 %\n"
          ]
        }
      ]
    },
    {
      "cell_type": "code",
      "metadata": {
        "id": "5TKj_ZV-Dzzn"
      },
      "source": [
        "# Q15. Why don't we need to reshape the input images when training and testing?\n",
        "\n",
        "# Because these imput images have already been normalized.\n",
        "\n",
        "# images are not fed into FC layers at first, convolutions will work on the wholeimage region and they will\n",
        "\n",
        "# Q16. Try to improve the model performance, e.g. by increasing the epochs, changing batch size, adding convolutions, etc.\n",
        "# Provide the code chunk showing the improved accuracy on the test set below. What changes did you make?\n",
        "\n",
        "# During the first run, the total model accuracy was 24.1%. I increased the\n",
        "# number of epoch and batch size. Changing the number increase the total model\n",
        "# accuracy to 58.26%.\n",
        "\n",
        "# Hyper parameters\n",
        "num_epochs = 5\n",
        "batch_size = 8\n",
        "learning_rate = 0.001"
      ],
      "execution_count": null,
      "outputs": []
    }
  ]
}
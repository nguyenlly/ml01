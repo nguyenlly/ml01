{
  "nbformat": 4,
  "nbformat_minor": 0,
  "metadata": {
    "colab": {
      "provenance": []
    },
    "kernelspec": {
      "name": "python3",
      "display_name": "Python 3"
    }
  },
  "cells": [
    {
      "cell_type": "markdown",
      "metadata": {
        "id": "42CRdtcCRTuc"
      },
      "source": [
        "# Assignment 1 – Polynomial Regression using ``torch.nn.Module``\n",
        "\n",
        "- Please create a copy of this notebook onto your own Drive before working on it: `File-->Save a copy in Drive`\n",
        "- Please submit your ipynb file named with your initials, e.g. `YGM-Assignment1.ipynb` with **the CODE cells output visible** to support your answers and **TEXTUAL answers given as comments** in the code cells.\n",
        "- Deadline for submission is **midnight, Friday, March 18th.**"
      ]
    },
    {
      "cell_type": "markdown",
      "metadata": {
        "id": "0KvsIo2UfwO3"
      },
      "source": [
        "## Neural Network Model for Polynomial Regression\n",
        "Your task is to build a neural network for the function $y = x^2 + 3x$\n",
        "\n",
        "Requirements:\n",
        "- You MUST use `torch.nn.Module` to define your neural network class.\n",
        "- The training data should have **10 input values, $x$, and the correct corresponding output values, $y$,** for the function $y = x^2 + 3x$\n",
        "- The NN may have **maximum TWO hidden layers**.\n",
        "- You may use a **maximum of 500 neuron units in each hidden layer**.\n",
        "- You may train over a **maximum of 1000 epochs**.\n",
        "- Use suitable activation functions that have been covered in class.\n",
        "- You MUST use the **Adam optimiser, `torch.optim.Adam()`** and the **MSE loss function**.\n",
        "- **IMPORTANT:** Your model must have a **LOSS OF LESS THAN 0.01** at the end of training.\n",
        "- **Train your model at least 3 times** to see that the final loss value is stable across all three runs.\n",
        "- Print the loss at every 25th iteration.\n",
        "- Test the model on $x=10$.\n",
        "- **Save your training loss** at every iteration.\n",
        "\n",
        "Note:\n",
        "- If your model does not achieve a loss of less than 0.01, you will still be awarded marks for `Q7 – Q10` as long as you can explain your answers accordingly."
      ]
    },
    {
      "cell_type": "code",
      "metadata": {
        "id": "MdiTwoHS93b3",
        "colab": {
          "base_uri": "https://localhost:8080/"
        },
        "outputId": "ee69af73-44a3-415b-c83b-2c2038e62234"
      },
      "source": [
        "import torch\n",
        "import torch.nn as nn\n",
        "\n",
        "# 1. Define training data for a the mathematical formula y = x^2 + 3x (3)\n",
        "\n",
        "x = torch.tensor([[-5],[-4],[-3],[-2],[-1],[0],[1],[2],[3],[4]],dtype = torch.float32)\n",
        "y = torch.tensor([[10],[4],[0],[-2],[-2],[0],[4],[10],[18],[28]],dtype = torch.float32)\n",
        "\n",
        "# 2. Define NN class (10)\n",
        "\n",
        "class MyNN(nn.Module):\n",
        "\n",
        "    def __init__(self, hidden_size):\n",
        "        super().__init__()\n",
        "        self.poly1 = nn.Linear(1, hidden_size)\n",
        "        self.poly2 = nn.Linear(hidden_size, hidden_size)\n",
        "        self.activation = nn.ReLU()\n",
        "        self.poly3 = nn.Linear(hidden_size, 1)\n",
        "\n",
        "    def forward(self, x):\n",
        "        x = self.poly1(x)\n",
        "        x = self.activation(x)\n",
        "        x = self.poly2(x)\n",
        "        x = self.activation(x)\n",
        "        x = self.poly3(x)\n",
        "        return x\n",
        "\n",
        "# 3. Create an instance of NN model (2)\n",
        "hidden_size = 400\n",
        "model = MyNN(hidden_size)\n",
        "\n",
        "# 4. Loss and Optimiser (2)\n",
        "learning_rate = 0.01\n",
        "loss_fn = nn.MSELoss()\n",
        "opt = torch.optim.Adam(model.parameters(), lr = learning_rate)\n",
        "\n",
        "\n",
        "# 5. Training loop\n",
        "# number of epochs need to be less than 1000\n",
        "num_epochs = 500\n",
        "training_loss = []\n",
        "epoch_ls = []\n",
        "\n",
        "for epoch in range(num_epochs):\n",
        "  # 5.1 Forward pass (2)\n",
        "  y_pred = model(x)\n",
        "  loss = loss_fn(y_pred, y)\n",
        "\n",
        "  # 5.2 Backward pass (3)\n",
        "  opt.zero_grad()\n",
        "  loss.backward()\n",
        "  opt.step()\n",
        "\n",
        "  # 5.3 Print loss every 25th epoch (1)\n",
        "  if (epoch + 1) % 25 == 0:\n",
        "    print(f'Epoch {epoch+1}/{num_epochs}, Loss={loss.item():.4f} ')\n",
        "\n",
        "  # 5.4 Save training loss at every epoch (2)\n",
        "  training_loss.append(loss.item())\n",
        "  epoch_ls.append(epoch)\n",
        "\n",
        "# Ensure that loss is less than 0.01 at the end if training consistently (3)"
      ],
      "execution_count": null,
      "outputs": [
        {
          "output_type": "stream",
          "name": "stdout",
          "text": [
            "Epoch 25/500, Loss=4.2861 \n",
            "Epoch 50/500, Loss=0.3647 \n",
            "Epoch 75/500, Loss=0.1487 \n",
            "Epoch 100/500, Loss=0.0610 \n",
            "Epoch 125/500, Loss=0.0266 \n",
            "Epoch 150/500, Loss=0.0018 \n",
            "Epoch 175/500, Loss=0.0001 \n",
            "Epoch 200/500, Loss=0.0000 \n",
            "Epoch 225/500, Loss=0.0000 \n",
            "Epoch 250/500, Loss=0.0000 \n",
            "Epoch 275/500, Loss=0.0042 \n",
            "Epoch 300/500, Loss=0.0057 \n",
            "Epoch 325/500, Loss=0.0004 \n",
            "Epoch 350/500, Loss=0.0000 \n",
            "Epoch 375/500, Loss=0.0000 \n",
            "Epoch 400/500, Loss=0.0000 \n",
            "Epoch 425/500, Loss=0.0001 \n",
            "Epoch 450/500, Loss=0.0092 \n",
            "Epoch 475/500, Loss=0.0002 \n",
            "Epoch 500/500, Loss=0.0003 \n"
          ]
        }
      ]
    },
    {
      "cell_type": "code",
      "source": [
        "# 6. Visualize (3)\n",
        "# Plot the landscape of your training loss (MSE loss) saved for every epoch.\n",
        "# y-axis would mean MSE loss and x-axis would mean the epoch of your training.\n",
        "# Hint: you should plot (1,first MSE loss), ... ,(last epoch number,last MSE loss)\n",
        "import matplotlib.pyplot as plt\n",
        "\n",
        "plt.title(\"Training Loss\")\n",
        "plt.plot(epoch_ls, training_loss)\n",
        "plt.xlabel('Epoch')\n",
        "plt.ylabel('MSE Loss')\n",
        "plt.show()\n",
        "\n"
      ],
      "metadata": {
        "id": "xXWhlxrmLBSl",
        "colab": {
          "base_uri": "https://localhost:8080/",
          "height": 295
        },
        "outputId": "38a54ed2-e8ac-402c-c439-143412a5f74c"
      },
      "execution_count": null,
      "outputs": [
        {
          "output_type": "display_data",
          "data": {
            "text/plain": [
              "<Figure size 432x288 with 1 Axes>"
            ],
            "image/png": "[encoded data removed]"
          },
          "metadata": {
            "needs_background": "light"
          }
        }
      ]
    },
    {
      "cell_type": "code",
      "metadata": {
        "id": "zatxfhYejeB8",
        "colab": {
          "base_uri": "https://localhost:8080/"
        },
        "outputId": "b2466a54-26f6-468e-815e-03639b144fd2"
      },
      "source": [
        "# 7. Prediction (2)\n",
        "# Let's use the model on a new number x, defined as a tensor\n",
        "test_num = 40\n",
        "test = torch.tensor([test_num], dtype=torch.float32)\n",
        "\n",
        "# Get the model's prediction for this new x\n",
        "print(f'\\n\\nModel prediction for {test_num} is {model(test).item():.4f}')"
      ],
      "execution_count": null,
      "outputs": [
        {
          "output_type": "stream",
          "name": "stdout",
          "text": [
            "\n",
            "\n",
            "Model prediction for 40 is 367.2011\n"
          ]
        }
      ]
    },
    {
      "cell_type": "code",
      "metadata": {
        "id": "RvmHgY1oDLiB"
      },
      "source": [
        "# Make sure the output of your code cells support your answers below:\n",
        "\n",
        "# Q8. Describe how the loss changed over time during training. (2)\n",
        "\n",
        "# The loss decreases over time during the training.\n",
        "\n",
        "# Q9. Is the prediction for x=10 close enough to the ideal value of 130?\n",
        "# Why do you think the prediction is or isn't close enough to the ideal value? (2)\n",
        "\n",
        "# The prediction is not close to the ideal value. This is probably due to the\n",
        "# training data. With the training data being so small in scale and very close\n",
        "# together x values, it does not fully depict the function for the model.\n",
        "\n",
        "# Q10. What are the predictions for x=20 and x=100? Based on these predictions,\n",
        "# comment on whether the model has captured the relationship between the training inputs and outputs. (2)\n",
        "\n",
        "# For x = 20, the predicted value was 179.7041 when the actual value is 460.\n",
        "# For x = 40, the predicted vlaue was 367.2011 when the actual value is 1720.\n",
        "# The model has not capture the relationship of the polynomial function\n",
        "# between the training input and the outputs.\n",
        "\n",
        "# Q11. Apart from tweaking the number of epochs and the number of neuron units in the hidden layer, think\n",
        "# of AT LEAST ONE more thing you would do to try to improve the model. You do NOT have to follow the\n",
        "# requirements nor to implement anything. (1)\n",
        "\n",
        "# I would provide much more training data. The dataset was too small to capture\n",
        "# the polynomial relationship.\n"
      ],
      "execution_count": null,
      "outputs": []
    }
  ]
}